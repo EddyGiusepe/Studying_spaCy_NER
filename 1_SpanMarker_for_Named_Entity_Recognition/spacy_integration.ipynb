{
 "cells": [
  {
   "attachments": {},
   "cell_type": "markdown",
   "metadata": {},
   "source": [
    "<h1 align=\"center\"><font color=\"yellow\">SpanMarker for Named Entity Recognition</font></h1>"
   ]
  },
  {
   "attachments": {},
   "cell_type": "markdown",
   "metadata": {},
   "source": [
    "<font color=\"yellow\">Data Scientist.: PhD.Eddy Giusepe Chirinos Isidro</font>"
   ]
  },
  {
   "attachments": {},
   "cell_type": "markdown",
   "metadata": {},
   "source": [
    "Links de estudo:\n",
    "\n",
    "* [SpanMarker](https://tomaarsen.github.io/SpanMarkerNER/notebooks/spacy_integration.html#Using-SpanMarker-models-for-Named-Entity-Recognition-with-spaCy)\n",
    "\n",
    "* [tomaarsen/SpanMarkerNER](https://github.com/tomaarsen/SpanMarkerNER/tree/main)\n"
   ]
  },
  {
   "attachments": {},
   "cell_type": "markdown",
   "metadata": {},
   "source": [
    "# Usando SpanMarker com spaCy"
   ]
  },
  {
   "attachments": {},
   "cell_type": "markdown",
   "metadata": {},
   "source": [
    "O [SpanMarker](https://github.com/tomaarsen/SpanMarkerNER/tree/main) é um módulo `Python` acessível, mas poderoso, para treinar modelos de Reconhecimento de Entidade Nomeada.\n",
    "\n",
    "Neste breve caderno, veremos como usar modelos `SpanMarker` pré-treinados com [spaCy](https://spacy.io/)."
   ]
  },
  {
   "attachments": {},
   "cell_type": "markdown",
   "metadata": {},
   "source": [
    "# Configuração"
   ]
  },
  {
   "attachments": {},
   "cell_type": "markdown",
   "metadata": {},
   "source": [
    "Primeiro de tudo, ambos `spacy` e o módulo Python `span_marker` precisam ser instalados. Depois, precisamos instalar um `modelo spacy` também. Vamos escolher o mais simples por enquanto: `pt_core_news_sm` (pode usar, também, para Inglês: `en_core_web_sm`).\n",
    "\n",
    "\n",
    "```\n",
    "%pip install span_marker spacy\n",
    "\n",
    "!python -m spacy download pt_core_news_sm\n",
    "\n",
    "!spacy download en_core_web_sm\n",
    "```"
   ]
  },
  {
   "attachments": {},
   "cell_type": "markdown",
   "metadata": {},
   "source": [
    "# Usando spaCy para Reconhecimento de Entidade Nomeada"
   ]
  },
  {
   "attachments": {},
   "cell_type": "markdown",
   "metadata": {},
   "source": [
    "Começaremos usando puramente `spaCy` para `NER`, para ajudar a dar uma indicação das alterações que precisam ser feitas para usar os modelos `SpanMarker` para `NER`.\n"
   ]
  },
  {
   "cell_type": "code",
   "execution_count": 20,
   "metadata": {},
   "outputs": [
    {
     "data": {
      "text/plain": [
       "(Cleopatra VII, Cleópatra, Reino Ptolemaico do Egito, Egito)"
      ]
     },
     "execution_count": 20,
     "metadata": {},
     "output_type": "execute_result"
    }
   ],
   "source": [
    "import spacy\n",
    "\n",
    "# Carregamos o Modelo spaCy\n",
    "nlp = spacy.load(\"pt_core_news_sm\")\n",
    "\n",
    "# Alimente algum texto através do modelo para obter um doc spaCy\n",
    "text = \"\"\"Cleopatra VII, também conhecida como Cleópatra (a Grande), \\\n",
    "foi a última governante ativa do Reino Ptolemaico do Egito. Ela nasceu em \\\n",
    "69 aC e governou o Egito de 51 aC até sua morte em 30 aC\"\"\"\n",
    "doc = nlp(text)\n",
    "\n",
    "# E olhe para as Entidades:\n",
    "doc.ents\n"
   ]
  },
  {
   "attachments": {},
   "cell_type": "markdown",
   "metadata": {},
   "source": [
    "<font color=\"orange\">O módulo `spaCy` vem com um visualizador conveniente que podemos usar para inspecionar essas entidades de uma maneira mais conveniente, vamos usá-lo.</font>"
   ]
  },
  {
   "cell_type": "code",
   "execution_count": 21,
   "metadata": {},
   "outputs": [
    {
     "data": {
      "text/html": [
       "<span class=\"tex2jax_ignore\"><div class=\"entities\" style=\"line-height: 2.5; direction: ltr\">\n",
       "<mark class=\"entity\" style=\"background: #ddd; padding: 0.45em 0.6em; margin: 0 0.25em; line-height: 1; border-radius: 0.35em;\">\n",
       "    Cleopatra VII\n",
       "    <span style=\"font-size: 0.8em; font-weight: bold; line-height: 1; border-radius: 0.35em; vertical-align: middle; margin-left: 0.5rem\">PER</span>\n",
       "</mark>\n",
       ", também conhecida como \n",
       "<mark class=\"entity\" style=\"background: #ddd; padding: 0.45em 0.6em; margin: 0 0.25em; line-height: 1; border-radius: 0.35em;\">\n",
       "    Cleópatra\n",
       "    <span style=\"font-size: 0.8em; font-weight: bold; line-height: 1; border-radius: 0.35em; vertical-align: middle; margin-left: 0.5rem\">PER</span>\n",
       "</mark>\n",
       " (a Grande), foi a última governante ativa do \n",
       "<mark class=\"entity\" style=\"background: #ff9561; padding: 0.45em 0.6em; margin: 0 0.25em; line-height: 1; border-radius: 0.35em;\">\n",
       "    Reino Ptolemaico do Egito\n",
       "    <span style=\"font-size: 0.8em; font-weight: bold; line-height: 1; border-radius: 0.35em; vertical-align: middle; margin-left: 0.5rem\">LOC</span>\n",
       "</mark>\n",
       ". Ela nasceu em 69 aC e governou o \n",
       "<mark class=\"entity\" style=\"background: #ff9561; padding: 0.45em 0.6em; margin: 0 0.25em; line-height: 1; border-radius: 0.35em;\">\n",
       "    Egito\n",
       "    <span style=\"font-size: 0.8em; font-weight: bold; line-height: 1; border-radius: 0.35em; vertical-align: middle; margin-left: 0.5rem\">LOC</span>\n",
       "</mark>\n",
       " de 51 aC até sua morte em 30 aC</div></span>"
      ],
      "text/plain": [
       "<IPython.core.display.HTML object>"
      ]
     },
     "metadata": {},
     "output_type": "display_data"
    }
   ],
   "source": [
    "from spacy import displacy\n",
    "\n",
    "displacy.render(doc, style=\"ent\")"
   ]
  },
  {
   "cell_type": "code",
   "execution_count": null,
   "metadata": {},
   "outputs": [],
   "source": []
  }
 ],
 "metadata": {
  "kernelspec": {
   "display_name": "venv_NER",
   "language": "python",
   "name": "python3"
  },
  "language_info": {
   "codemirror_mode": {
    "name": "ipython",
    "version": 3
   },
   "file_extension": ".py",
   "mimetype": "text/x-python",
   "name": "python",
   "nbconvert_exporter": "python",
   "pygments_lexer": "ipython3",
   "version": "3.10.6"
  },
  "orig_nbformat": 4
 },
 "nbformat": 4,
 "nbformat_minor": 2
}
