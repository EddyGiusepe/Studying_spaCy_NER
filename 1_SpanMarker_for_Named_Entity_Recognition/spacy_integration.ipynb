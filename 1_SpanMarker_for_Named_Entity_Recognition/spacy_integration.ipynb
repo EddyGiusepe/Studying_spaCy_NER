{
  "cells": [
    {
      "cell_type": "markdown",
      "metadata": {
        "id": "wV63l--39wdf"
      },
      "source": [
        "<h1 align=\"center\"><font color=\"yellow\">SpanMarker for Named Entity Recognition</font></h1>"
      ]
    },
    {
      "cell_type": "markdown",
      "metadata": {
        "id": "Vcf5prk49wdh"
      },
      "source": [
        "<font color=\"yellow\">Data Scientist.: PhD.Eddy Giusepe Chirinos Isidro</font>"
      ]
    },
    {
      "cell_type": "markdown",
      "metadata": {
        "id": "oKEos7c69wdh"
      },
      "source": [
        "Links de estudo:\n",
        "\n",
        "* [SpanMarker](https://tomaarsen.github.io/SpanMarkerNER/notebooks/spacy_integration.html#Using-SpanMarker-models-for-Named-Entity-Recognition-with-spaCy)\n",
        "\n",
        "* [tomaarsen/SpanMarkerNER](https://github.com/tomaarsen/SpanMarkerNER/tree/main)\n"
      ]
    },
    {
      "cell_type": "markdown",
      "metadata": {
        "id": "iBnmUG_59wdi"
      },
      "source": [
        "# Usando SpanMarker com spaCy"
      ]
    },
    {
      "cell_type": "markdown",
      "metadata": {
        "id": "FdNDaH569wdi"
      },
      "source": [
        "O [SpanMarker](https://github.com/tomaarsen/SpanMarkerNER/tree/main) é um módulo `Python` acessível, mas poderoso, para treinar modelos de Reconhecimento de Entidade Nomeada.\n",
        "\n",
        "Neste breve caderno, veremos como usar modelos `SpanMarker` pré-treinados com [spaCy](https://spacy.io/)."
      ]
    },
    {
      "cell_type": "markdown",
      "metadata": {
        "id": "zlUFm7mz9wdi"
      },
      "source": [
        "# Configuração"
      ]
    },
    {
      "cell_type": "markdown",
      "metadata": {
        "id": "ccrBqIjO9wdi"
      },
      "source": [
        "Primeiro de tudo, ambos `spacy` e o módulo Python `span_marker` precisam ser instalados. Depois, precisamos instalar um `modelo spacy` também. Vamos escolher o mais simples por enquanto: `pt_core_news_sm` (pode usar, também, para Inglês: `en_core_web_sm`).\n",
        "\n",
        "\n",
        "```\n",
        "!pip install span-marker==1.2.3   # Eu instalei deste jeito --> https://pypi.org/project/span-marker/1.2.3/\n",
        "\n",
        "%pip install span_marker spacy\n",
        "\n",
        "!python -m spacy download pt_core_news_sm\n",
        "\n",
        "!python -m spacy download en_core_web_sm\n",
        "```"
      ]
    },
    {
      "cell_type": "code",
      "execution_count": null,
      "metadata": {
        "id": "GIvLu0BS91Ux"
      },
      "outputs": [],
      "source": [
        "#!pip install span-marker==1.2.3\n",
        "\n",
        "#!pip install spacy\n",
        "\n",
        "#!python -m spacy download pt_core_news_sm\n",
        "\n",
        "#!python -m spacy download en_core_web_sm\n",
        "\n",
        "#!python -m spacy download pt_core_news_lg"
      ]
    },
    {
      "cell_type": "markdown",
      "metadata": {
        "id": "J11QS-ie9wdj"
      },
      "source": [
        "# Usando spaCy para Reconhecimento de Entidade Nomeada"
      ]
    },
    {
      "cell_type": "markdown",
      "metadata": {
        "id": "UWI1Fpan9wdj"
      },
      "source": [
        "Começaremos usando puramente `spaCy` para `NER`, para ajudar a dar uma indicação das alterações que precisam ser feitas para usar os modelos `SpanMarker` para `NER`.\n"
      ]
    },
    {
      "cell_type": "code",
      "execution_count": 18,
      "metadata": {
        "colab": {
          "base_uri": "https://localhost:8080/"
        },
        "id": "wWLyQMl09wdj",
        "outputId": "0598b101-4ac0-49e8-b803-f1e59d99d861"
      },
      "outputs": [
        {
          "data": {
            "text/plain": [
              "(Eddy,\n",
              " Perú,\n",
              " Karina,\n",
              " Brasil,\n",
              " Vitória-ES,\n",
              " CentralIT Tecnologia como Cientista de Dados,\n",
              " Eddy,\n",
              " UFES,\n",
              " Física)"
            ]
          },
          "execution_count": 18,
          "metadata": {},
          "output_type": "execute_result"
        }
      ],
      "source": [
        "import spacy\n",
        "\n",
        "\n",
        "# Carregamos o Modelo spaCy\n",
        "nlp = spacy.load(\"pt_core_news_lg\") # \"en_core_web_sm\" # \"pt_core_news_sm\"\n",
        "\n",
        "# Alimente algum texto através do modelo para obter um doc spaCy\n",
        "text = \"\"\"O Eddy é do Perú e a sua esposa Karina é do Brasil. Atualmente eles moram en Vitória-ES. \\\n",
        "Ele trabalha atualmente na empresa CentralIT Tecnologia como Cientista de Dados. O Eddy estudo na UFES o curso de \\\n",
        "Física. Ele nasceu no dia 4 de setembro de 1981 (04/09/1981).\n",
        "\"\"\"\n",
        "doc = nlp(text)\n",
        "\n",
        "# E olhe para as Entidades:\n",
        "doc.ents\n",
        "\n"
      ]
    },
    {
      "cell_type": "markdown",
      "metadata": {
        "id": "BNj5RQVF9wdk"
      },
      "source": [
        "<font color=\"orange\">O módulo `spaCy` vem com um visualizador conveniente que podemos usar para inspecionar essas entidades de uma maneira mais conveniente, vamos usá-lo.</font>"
      ]
    },
    {
      "cell_type": "code",
      "execution_count": 19,
      "metadata": {
        "colab": {
          "base_uri": "https://localhost:8080/",
          "height": 52
        },
        "id": "oDEaOxbq9wdk",
        "outputId": "aa15ec80-ae57-4632-aaca-c77fa1dcf830"
      },
      "outputs": [
        {
          "data": {
            "text/html": [
              "<span class=\"tex2jax_ignore\"><div class=\"entities\" style=\"line-height: 2.5; direction: ltr\">O \n",
              "<mark class=\"entity\" style=\"background: #ddd; padding: 0.45em 0.6em; margin: 0 0.25em; line-height: 1; border-radius: 0.35em;\">\n",
              "    Eddy\n",
              "    <span style=\"font-size: 0.8em; font-weight: bold; line-height: 1; border-radius: 0.35em; vertical-align: middle; margin-left: 0.5rem\">PER</span>\n",
              "</mark>\n",
              " é do \n",
              "<mark class=\"entity\" style=\"background: #ff9561; padding: 0.45em 0.6em; margin: 0 0.25em; line-height: 1; border-radius: 0.35em;\">\n",
              "    Perú\n",
              "    <span style=\"font-size: 0.8em; font-weight: bold; line-height: 1; border-radius: 0.35em; vertical-align: middle; margin-left: 0.5rem\">LOC</span>\n",
              "</mark>\n",
              " e a sua esposa \n",
              "<mark class=\"entity\" style=\"background: #ddd; padding: 0.45em 0.6em; margin: 0 0.25em; line-height: 1; border-radius: 0.35em;\">\n",
              "    Karina\n",
              "    <span style=\"font-size: 0.8em; font-weight: bold; line-height: 1; border-radius: 0.35em; vertical-align: middle; margin-left: 0.5rem\">PER</span>\n",
              "</mark>\n",
              " é do \n",
              "<mark class=\"entity\" style=\"background: #ff9561; padding: 0.45em 0.6em; margin: 0 0.25em; line-height: 1; border-radius: 0.35em;\">\n",
              "    Brasil\n",
              "    <span style=\"font-size: 0.8em; font-weight: bold; line-height: 1; border-radius: 0.35em; vertical-align: middle; margin-left: 0.5rem\">LOC</span>\n",
              "</mark>\n",
              ". Atualmente eles moram en \n",
              "<mark class=\"entity\" style=\"background: #ff9561; padding: 0.45em 0.6em; margin: 0 0.25em; line-height: 1; border-radius: 0.35em;\">\n",
              "    Vitória-ES\n",
              "    <span style=\"font-size: 0.8em; font-weight: bold; line-height: 1; border-radius: 0.35em; vertical-align: middle; margin-left: 0.5rem\">LOC</span>\n",
              "</mark>\n",
              ". Ele trabalha atualmente na empresa \n",
              "<mark class=\"entity\" style=\"background: #7aecec; padding: 0.45em 0.6em; margin: 0 0.25em; line-height: 1; border-radius: 0.35em;\">\n",
              "    CentralIT Tecnologia como Cientista de Dados\n",
              "    <span style=\"font-size: 0.8em; font-weight: bold; line-height: 1; border-radius: 0.35em; vertical-align: middle; margin-left: 0.5rem\">ORG</span>\n",
              "</mark>\n",
              ". O \n",
              "<mark class=\"entity\" style=\"background: #ddd; padding: 0.45em 0.6em; margin: 0 0.25em; line-height: 1; border-radius: 0.35em;\">\n",
              "    Eddy\n",
              "    <span style=\"font-size: 0.8em; font-weight: bold; line-height: 1; border-radius: 0.35em; vertical-align: middle; margin-left: 0.5rem\">PER</span>\n",
              "</mark>\n",
              " estudo na \n",
              "<mark class=\"entity\" style=\"background: #ff9561; padding: 0.45em 0.6em; margin: 0 0.25em; line-height: 1; border-radius: 0.35em;\">\n",
              "    UFES\n",
              "    <span style=\"font-size: 0.8em; font-weight: bold; line-height: 1; border-radius: 0.35em; vertical-align: middle; margin-left: 0.5rem\">LOC</span>\n",
              "</mark>\n",
              " o curso de \n",
              "<mark class=\"entity\" style=\"background: #ddd; padding: 0.45em 0.6em; margin: 0 0.25em; line-height: 1; border-radius: 0.35em;\">\n",
              "    Física\n",
              "    <span style=\"font-size: 0.8em; font-weight: bold; line-height: 1; border-radius: 0.35em; vertical-align: middle; margin-left: 0.5rem\">MISC</span>\n",
              "</mark>\n",
              ". Ele nasceu no dia 4 de setembro de 1981 (04/09/1981).</br></div></span>"
            ],
            "text/plain": [
              "<IPython.core.display.HTML object>"
            ]
          },
          "metadata": {},
          "output_type": "display_data"
        }
      ],
      "source": [
        "from spacy import displacy\n",
        "\n",
        "displacy.render(doc, jupyter=True, style=\"ent\")"
      ]
    },
    {
      "cell_type": "markdown",
      "metadata": {
        "id": "VrK2wL4N9wdl"
      },
      "source": [
        "Não é exatamente o ideal. Este modelo `spaCy` erra."
      ]
    },
    {
      "cell_type": "markdown",
      "metadata": {
        "id": "IIcMR1ib9wdl"
      },
      "source": [
        "# Usando modelos SpanMarker para reconhecimento de entidade nomeada com spaCy"
      ]
    },
    {
      "cell_type": "markdown",
      "metadata": {
        "id": "ikKJvPdW9wdl"
      },
      "source": [
        "<font color=\"orange\">Podemos facilmente adicionar um modelo `SpanMarker` como um substituto do `pipeline spaCy NER` original. É tão simples quanto uma linha de código.</font>"
      ]
    },
    {
      "cell_type": "code",
      "execution_count": 20,
      "metadata": {
        "colab": {
          "base_uri": "https://localhost:8080/"
        },
        "id": "M_aA1qyO9wdl",
        "outputId": "1bcab8d0-37c5-4837-ef16-388b3f0108cd"
      },
      "outputs": [
        {
          "data": {
            "text/plain": [
              "<span_marker.spacy_integration.SpacySpanMarkerWrapper at 0x7f8b85261360>"
            ]
          },
          "execution_count": 20,
          "metadata": {},
          "output_type": "execute_result"
        }
      ],
      "source": [
        "nlp.add_pipe(\"span_marker\", config={\"model\": \"tomaarsen/span-marker-roberta-large-ontonotes5\"})\n",
        "\n",
        "# pode usar --> \"tomaarsen/span-marker-xlm-roberta-base-fewnerd-fine-super\"\n",
        "# pode usar --> \"tomaarsen/span-marker-xlm-roberta-large-conllpp-doc-context\"\n",
        "\n",
        "#nlp.add_pipe(\"span_marker\", config={\"model\": \"tomaarsen/span-marker-roberta-large-ontonotes5\"})\n"
      ]
    },
    {
      "cell_type": "markdown",
      "metadata": {
        "id": "mXXK80sN9wdl"
      },
      "source": [
        "O modelo de configuração refere-se a [tomaarsen/span-marker-roberta-large-ontonotes5](https://huggingface.co/tomaarsen/span-marker-roberta-large-ontonotes5), um modelo treinado no `OntoNotes v5.0`, o mesmo conjunto de dados usado pelo `pipeline spaCy NER original`. A [spaCy integration API reference](https://tomaarsen.github.io/SpanMarkerNER/api/span_marker.spacy_integration.html) tem mais documentação sobre as opções de configuração. Vamos experimentar o `pipeline spaCy atualizado`."
      ]
    },
    {
      "cell_type": "code",
      "execution_count": 21,
      "metadata": {
        "colab": {
          "base_uri": "https://localhost:8080/",
          "height": 71
        },
        "id": "3dihscAt9wdl",
        "outputId": "3444e350-b1c4-4df0-e776-316173c29e58"
      },
      "outputs": [
        {
          "name": "stdout",
          "output_type": "stream",
          "text": [
            "(Eddy, Perú, Karina, Brasil, Vitória-ES, CentralIT Tecnologia, Eddy, UFES, 04/09/1981)\n"
          ]
        },
        {
          "data": {
            "text/html": [
              "<span class=\"tex2jax_ignore\"><div class=\"entities\" style=\"line-height: 2.5; direction: ltr\">O \n",
              "<mark class=\"entity\" style=\"background: #aa9cfc; padding: 0.45em 0.6em; margin: 0 0.25em; line-height: 1; border-radius: 0.35em;\">\n",
              "    Eddy\n",
              "    <span style=\"font-size: 0.8em; font-weight: bold; line-height: 1; border-radius: 0.35em; vertical-align: middle; margin-left: 0.5rem\">PERSON</span>\n",
              "</mark>\n",
              " é do \n",
              "<mark class=\"entity\" style=\"background: #feca74; padding: 0.45em 0.6em; margin: 0 0.25em; line-height: 1; border-radius: 0.35em;\">\n",
              "    Perú\n",
              "    <span style=\"font-size: 0.8em; font-weight: bold; line-height: 1; border-radius: 0.35em; vertical-align: middle; margin-left: 0.5rem\">GPE</span>\n",
              "</mark>\n",
              " e a sua esposa \n",
              "<mark class=\"entity\" style=\"background: #aa9cfc; padding: 0.45em 0.6em; margin: 0 0.25em; line-height: 1; border-radius: 0.35em;\">\n",
              "    Karina\n",
              "    <span style=\"font-size: 0.8em; font-weight: bold; line-height: 1; border-radius: 0.35em; vertical-align: middle; margin-left: 0.5rem\">PERSON</span>\n",
              "</mark>\n",
              " é do \n",
              "<mark class=\"entity\" style=\"background: #feca74; padding: 0.45em 0.6em; margin: 0 0.25em; line-height: 1; border-radius: 0.35em;\">\n",
              "    Brasil\n",
              "    <span style=\"font-size: 0.8em; font-weight: bold; line-height: 1; border-radius: 0.35em; vertical-align: middle; margin-left: 0.5rem\">GPE</span>\n",
              "</mark>\n",
              ". Atualmente eles moram en \n",
              "<mark class=\"entity\" style=\"background: #feca74; padding: 0.45em 0.6em; margin: 0 0.25em; line-height: 1; border-radius: 0.35em;\">\n",
              "    Vitória-ES\n",
              "    <span style=\"font-size: 0.8em; font-weight: bold; line-height: 1; border-radius: 0.35em; vertical-align: middle; margin-left: 0.5rem\">GPE</span>\n",
              "</mark>\n",
              ". Ele trabalha atualmente na empresa \n",
              "<mark class=\"entity\" style=\"background: #7aecec; padding: 0.45em 0.6em; margin: 0 0.25em; line-height: 1; border-radius: 0.35em;\">\n",
              "    CentralIT Tecnologia\n",
              "    <span style=\"font-size: 0.8em; font-weight: bold; line-height: 1; border-radius: 0.35em; vertical-align: middle; margin-left: 0.5rem\">ORG</span>\n",
              "</mark>\n",
              " como Cientista de Dados. O \n",
              "<mark class=\"entity\" style=\"background: #aa9cfc; padding: 0.45em 0.6em; margin: 0 0.25em; line-height: 1; border-radius: 0.35em;\">\n",
              "    Eddy\n",
              "    <span style=\"font-size: 0.8em; font-weight: bold; line-height: 1; border-radius: 0.35em; vertical-align: middle; margin-left: 0.5rem\">PERSON</span>\n",
              "</mark>\n",
              " estudo na \n",
              "<mark class=\"entity\" style=\"background: #7aecec; padding: 0.45em 0.6em; margin: 0 0.25em; line-height: 1; border-radius: 0.35em;\">\n",
              "    UFES\n",
              "    <span style=\"font-size: 0.8em; font-weight: bold; line-height: 1; border-radius: 0.35em; vertical-align: middle; margin-left: 0.5rem\">ORG</span>\n",
              "</mark>\n",
              " o curso de Física. Ele nasceu no dia 4 de setembro de 1981 (\n",
              "<mark class=\"entity\" style=\"background: #bfe1d9; padding: 0.45em 0.6em; margin: 0 0.25em; line-height: 1; border-radius: 0.35em;\">\n",
              "    04/09/1981\n",
              "    <span style=\"font-size: 0.8em; font-weight: bold; line-height: 1; border-radius: 0.35em; vertical-align: middle; margin-left: 0.5rem\">DATE</span>\n",
              "</mark>\n",
              ").</br></div></span>"
            ],
            "text/plain": [
              "<IPython.core.display.HTML object>"
            ]
          },
          "metadata": {},
          "output_type": "display_data"
        }
      ],
      "source": [
        "# Tudo o que precisamos fazer é processar o texto usando o pipeline spaCy atualizado:\n",
        "doc = nlp(text)\n",
        "\n",
        "print(doc.ents)\n",
        "\n",
        "displacy.render(doc, jupyter=True, style=\"ent\")"
      ]
    },
    {
      "cell_type": "markdown",
      "metadata": {
        "id": "4hVSIvNTAQSr"
      },
      "source": [
        "Muito melhor!\n",
        "\n",
        "Mas, e se não quisermos usar um modelo com essas etiquetas? Bem, essa integração funciona para qualquer [SpanMarker model on the Hugging Face Hub](https://huggingface.co/models?library=span-marker), então podemos escolher outro. Vamos agora também garantir que o modelo permaneça na `CPU`, apenas para ver como isso funciona."
      ]
    },
    {
      "cell_type": "code",
      "execution_count": 22,
      "metadata": {
        "colab": {
          "base_uri": "https://localhost:8080/",
          "height": 125
        },
        "id": "NWe3ormQ9wdl",
        "outputId": "1ecabd6c-ea2b-4126-dcb7-35144558cd2e"
      },
      "outputs": [
        {
          "name": "stderr",
          "output_type": "stream",
          "text": [
            "WARNING:span_marker.modeling:SpanMarker model predictions are being computed on the CPU while CUDA is available. Moving the model to CUDA using `model.cuda()` before performing predictions is heavily recommended to significantly boost prediction speeds.\n"
          ]
        },
        {
          "name": "stdout",
          "output_type": "stream",
          "text": [
            "(Eddy, Perú, Karina, Brasil, Vitória-ES, CentralIT Tecnologia, Eddy, UFES)\n"
          ]
        },
        {
          "data": {
            "text/html": [
              "<span class=\"tex2jax_ignore\"><div class=\"entities\" style=\"line-height: 2.5; direction: ltr\">O \n",
              "<mark class=\"entity\" style=\"background: #ddd; padding: 0.45em 0.6em; margin: 0 0.25em; line-height: 1; border-radius: 0.35em;\">\n",
              "    Eddy\n",
              "    <span style=\"font-size: 0.8em; font-weight: bold; line-height: 1; border-radius: 0.35em; vertical-align: middle; margin-left: 0.5rem\">person-other</span>\n",
              "</mark>\n",
              " é do \n",
              "<mark class=\"entity\" style=\"background: #ddd; padding: 0.45em 0.6em; margin: 0 0.25em; line-height: 1; border-radius: 0.35em;\">\n",
              "    Perú\n",
              "    <span style=\"font-size: 0.8em; font-weight: bold; line-height: 1; border-radius: 0.35em; vertical-align: middle; margin-left: 0.5rem\">location-GPE</span>\n",
              "</mark>\n",
              " e a sua esposa \n",
              "<mark class=\"entity\" style=\"background: #ddd; padding: 0.45em 0.6em; margin: 0 0.25em; line-height: 1; border-radius: 0.35em;\">\n",
              "    Karina\n",
              "    <span style=\"font-size: 0.8em; font-weight: bold; line-height: 1; border-radius: 0.35em; vertical-align: middle; margin-left: 0.5rem\">person-other</span>\n",
              "</mark>\n",
              " é do \n",
              "<mark class=\"entity\" style=\"background: #ddd; padding: 0.45em 0.6em; margin: 0 0.25em; line-height: 1; border-radius: 0.35em;\">\n",
              "    Brasil\n",
              "    <span style=\"font-size: 0.8em; font-weight: bold; line-height: 1; border-radius: 0.35em; vertical-align: middle; margin-left: 0.5rem\">location-GPE</span>\n",
              "</mark>\n",
              ". Atualmente eles moram en \n",
              "<mark class=\"entity\" style=\"background: #ddd; padding: 0.45em 0.6em; margin: 0 0.25em; line-height: 1; border-radius: 0.35em;\">\n",
              "    Vitória-ES\n",
              "    <span style=\"font-size: 0.8em; font-weight: bold; line-height: 1; border-radius: 0.35em; vertical-align: middle; margin-left: 0.5rem\">location-GPE</span>\n",
              "</mark>\n",
              ". Ele trabalha atualmente na empresa \n",
              "<mark class=\"entity\" style=\"background: #ddd; padding: 0.45em 0.6em; margin: 0 0.25em; line-height: 1; border-radius: 0.35em;\">\n",
              "    CentralIT Tecnologia\n",
              "    <span style=\"font-size: 0.8em; font-weight: bold; line-height: 1; border-radius: 0.35em; vertical-align: middle; margin-left: 0.5rem\">organization-company</span>\n",
              "</mark>\n",
              " como Cientista de Dados. O \n",
              "<mark class=\"entity\" style=\"background: #ddd; padding: 0.45em 0.6em; margin: 0 0.25em; line-height: 1; border-radius: 0.35em;\">\n",
              "    Eddy\n",
              "    <span style=\"font-size: 0.8em; font-weight: bold; line-height: 1; border-radius: 0.35em; vertical-align: middle; margin-left: 0.5rem\">person-other</span>\n",
              "</mark>\n",
              " estudo na \n",
              "<mark class=\"entity\" style=\"background: #ddd; padding: 0.45em 0.6em; margin: 0 0.25em; line-height: 1; border-radius: 0.35em;\">\n",
              "    UFES\n",
              "    <span style=\"font-size: 0.8em; font-weight: bold; line-height: 1; border-radius: 0.35em; vertical-align: middle; margin-left: 0.5rem\">organization-education</span>\n",
              "</mark>\n",
              " o curso de Física. Ele nasceu no dia 4 de setembro de 1981 (04/09/1981).</br></div></span>"
            ],
            "text/plain": [
              "<IPython.core.display.HTML object>"
            ]
          },
          "metadata": {},
          "output_type": "display_data"
        }
      ],
      "source": [
        "nlp.remove_pipe(\"span_marker\")\n",
        "\n",
        "nlp.add_pipe(\n",
        "    \"span_marker\",\n",
        "    config={\n",
        "        \"model\": \"tomaarsen/span-marker-xlm-roberta-base-fewnerd-fine-super\",\n",
        "        \"device\": \"cpu\",\n",
        "    },\n",
        ")\n",
        "\n",
        "doc = nlp(text)\n",
        "print(doc.ents)\n",
        "displacy.render(doc, jupyter=True, style=\"ent\")\n"
      ]
    },
    {
      "cell_type": "markdown",
      "metadata": {
        "id": "7RE06Mk2FRDj"
      },
      "source": [
        "# Resumo"
      ]
    },
    {
      "cell_type": "markdown",
      "metadata": {
        "id": "zFqzgezOFUvk"
      },
      "source": [
        "<font color=\"orange\">Para resumir, usar `SpanMarker` com `spaCy` é tão simples quanto isto:</font>"
      ]
    },
    {
      "cell_type": "code",
      "execution_count": 23,
      "metadata": {
        "colab": {
          "base_uri": "https://localhost:8080/"
        },
        "id": "X4GXnLZIAzMx",
        "outputId": "be5ae001-3f8a-4fd9-985a-a33719e8722b"
      },
      "outputs": [
        {
          "name": "stderr",
          "output_type": "stream",
          "text": [
            "WARNING:span_marker.modeling:SpanMarker model predictions are being computed on the CPU while CUDA is available. Moving the model to CUDA using `model.cuda()` before performing predictions is heavily recommended to significantly boost prediction speeds.\n"
          ]
        },
        {
          "data": {
            "text/plain": [
              "[(Eddy, 'PER'),\n",
              " (Perú, 'LOC'),\n",
              " (Karina, 'PER'),\n",
              " (Brasil, 'LOC'),\n",
              " (Vitória-ES, 'LOC'),\n",
              " (CentralIT Tecnologia, 'ORG'),\n",
              " (Eddy, 'PER'),\n",
              " (UFES, 'ORG')]"
            ]
          },
          "execution_count": 23,
          "metadata": {},
          "output_type": "execute_result"
        }
      ],
      "source": [
        "import spacy\n",
        "\n",
        "nlp = spacy.load(\"pt_core_news_lg\", disable=[\"ner\"])\n",
        "#nlp.add_pipe(\"span_marker\")\n",
        "nlp.add_pipe(\"span_marker\",\n",
        "             config={\"model\": \"tomaarsen/span-marker-xlm-roberta-large-conllpp-doc-context\", \"device\": \"cpu\"},\n",
        "            )\n",
        "\n",
        "#text = \"Amelia Earhart flew her single engine Lockheed Vega 5B across the Atlantic to Paris.\"\n",
        "text = \"\"\"O Eddy é do Perú e a sua esposa Karina é do Brasil. Atualmente eles moram en Vitória-ES. \\\n",
        "Ele trabalha atualmente na empresa CentralIT Tecnologia como Cientista de Dados. O Eddy estudo na UFES o curso de \\\n",
        "Física. Ele nasceu no dia 4 de setembro de 1981.\n",
        "\"\"\"\n",
        "doc = nlp(text)\n",
        "\n",
        "[(entity, entity.label_) for entity in doc.ents]"
      ]
    }
  ],
  "metadata": {
    "accelerator": "GPU",
    "colab": {
      "machine_shape": "hm",
      "provenance": []
    },
    "kernelspec": {
      "display_name": "Python 3",
      "name": "python3"
    },
    "language_info": {
      "codemirror_mode": {
        "name": "ipython",
        "version": 3
      },
      "file_extension": ".py",
      "mimetype": "text/x-python",
      "name": "python",
      "nbconvert_exporter": "python",
      "pygments_lexer": "ipython3",
      "version": "3.10.6"
    }
  },
  "nbformat": 4,
  "nbformat_minor": 0
}
