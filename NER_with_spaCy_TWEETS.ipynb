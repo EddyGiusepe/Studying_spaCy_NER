{
  "nbformat": 4,
  "nbformat_minor": 0,
  "metadata": {
    "colab": {
      "name": "NER_with_spaCy_TWEETS.ipynb",
      "provenance": [],
      "collapsed_sections": [],
      "machine_shape": "hm",
      "authorship_tag": "ABX9TyM9yvzXFRX3azIBLQkmlHXZ",
      "include_colab_link": true
    },
    "kernelspec": {
      "name": "python3",
      "display_name": "Python 3"
    },
    "language_info": {
      "name": "python"
    },
    "accelerator": "TPU"
  },
  "cells": [
    {
      "cell_type": "markdown",
      "metadata": {
        "id": "view-in-github",
        "colab_type": "text"
      },
      "source": [
        "<a href=\"https://colab.research.google.com/github/EddyGiusepe/Studying_spaCy_NER/blob/main/NER_with_spaCy_TWEETS.ipynb\" target=\"_parent\"><img src=\"https://colab.research.google.com/assets/colab-badge.svg\" alt=\"Open In Colab\"/></a>"
      ]
    },
    {
      "cell_type": "markdown",
      "source": [
        "# <h2 align=\"center\">[Named Entity Recognition (NER) with spaCy](https://www.youtube.com/watch?v=NK41SHyZIa4)</h2>\n",
        "\n",
        "\n",
        "Data Scientist Jr.: Eddy Giusepe Chirinos Isidro\n",
        "\n",
        "\n",
        "Este script foi baseado nos seguintes links de estudo:\n",
        "\n",
        "* [GEAM 2020-06-17 - Reconhecimento de Entidades Nomeadas utilizando o spaCy](https://www.youtube.com/watch?v=NK41SHyZIa4)\n",
        "\n",
        "* [How to Train NER with Custom training Data using spaCy](https://manivannan-ai.medium.com/how-to-train-ner-with-custom-training-data-using-spacy-188e0e508c6)\n",
        "\n",
        "* [A basic Named entity recognition (NER) with spaCy in 10 lines of code in Python](https://python.plainenglish.io/a-basic-named-entity-recognition-ner-with-spacy-in-10-lines-of-code-in-python-c53316ce9c4c)\n",
        "\n",
        "* [Text analysis with named entity recognition](https://www.depends-on-the-definition.com/text-analysis-with-named-entities/)\n",
        "\n",
        "* [Reconhecimento de entidade nomeada personalizada usando spCy](https://towardsdatascience.com/custom-named-entity-recognition-using-spacy-7140ebbb3718)"
      ],
      "metadata": {
        "id": "Oqt_3Te1ft2v"
      }
    },
    {
      "cell_type": "markdown",
      "source": [
        "# NER"
      ],
      "metadata": {
        "id": "rccM-R_Xgxmi"
      }
    },
    {
      "cell_type": "markdown",
      "source": [
        "Em português, Reconhecimento de Entidade Nomeada. É um processo de identificação de entidades predefinidas presentes em um texto, como nome da pessoa, organização, local, etc.\n",
        "\n",
        "\n",
        "É um modelo estatístico treinado em um conjunto de Dados rotulado e usado para extrair informações de um determinado conjunto de Dados.\n",
        "\n",
        "\n",
        "<font color=\"orange\">Exemplo:</font>\n",
        "\n",
        "* Considere a seguinte frase:\n",
        "```\n",
        "\"Maria mora em Paris\"\n",
        "```\n",
        "\n",
        "* As entidades da frase acima seriam **Maria** e **Paris**.\n",
        "\n",
        "O ``NER`` é usado em muitos campos da ``inteligência Artificial`` (IA), inlcuindo o ``Processamento de Linguagem Natural`` (NLP) e o Aprendizado de Máquina."
      ],
      "metadata": {
        "id": "-qZ7l6jFg3ag"
      }
    },
    {
      "cell_type": "markdown",
      "source": [
        "### Aplicações de NER"
      ],
      "metadata": {
        "id": "_CJubvWEjr0j"
      }
    },
    {
      "cell_type": "markdown",
      "source": [
        "* Resumo de grandes documentos: um sistema que utiliza NER poderia aprender a resumir textos grandes em pequenos a partir do conhecimento de entidades relevantes.\n",
        "\n",
        "* Categorização de reviews: ao aplicar NER em comentários de usuários em portais, pode se gerar categorias que resumem todo o texto. Um <font color=\"orange\">exemplo</font> é a Amazon que resume um review sobre um produto no portal.\n",
        "\n",
        "* Chatbot de auto-atendimento: diversos Chatbots estão sendo construídos nos quais a base para seu funcionamento é a técnica de NER, com o reconhecimento das entidades os robots tomam ações propícias conforme o usuário fala ou digita.\n",
        "\n",
        "* Identificação e agendamento de compromissos: usando NER, um sistema consegue aprender o que é data, horário e uma cidade em um e-mail por <font color=\"orange\">exemplo</font>. Com isso nas \"mãos\" o sistema poderia agendar um compromisso automaticamente na sua agenda."
      ],
      "metadata": {
        "id": "i3_Tq1yKjxqB"
      }
    },
    {
      "cell_type": "markdown",
      "source": [
        "## [spaCy](https://spacy.io/)"
      ],
      "metadata": {
        "id": "0sWpibNImhXg"
      }
    },
    {
      "cell_type": "markdown",
      "source": [
        "É um framework que contém diversos modelos e uma arquitetura profissional para trabalhar com várias tarefas de ``NLP``. Além disso, este permite integração com outras bibliotecas, o que o torna algo interessante para trabalhos envolvendo Deep Learning.\n",
        "\n",
        "Alguns dos recursos fornecidos pelo ``spaCy`` são: ``tokenização``, marcação de partes do discurso (PoS), classificação de texto e reconhecimento de entidades nomeadas."
      ],
      "metadata": {
        "id": "PdzsPWt1mnSG"
      }
    },
    {
      "cell_type": "markdown",
      "source": [
        "# [Instalando o spaCy](https://www.youtube.com/watch?v=NK41SHyZIa4)"
      ],
      "metadata": {
        "id": "8Ch_SHYgoIYo"
      }
    },
    {
      "cell_type": "markdown",
      "source": [
        "Para instalar o Framework [spaCy] escrevemos o seguinte comando:\n",
        "\n",
        "```\n",
        "!pip install -U spacy\n",
        "```"
      ],
      "metadata": {
        "id": "Z0SQNqZtoOrt"
      }
    },
    {
      "cell_type": "code",
      "execution_count": null,
      "metadata": {
        "id": "wI4D-PvVehmL"
      },
      "outputs": [],
      "source": [
        "# Instalando \n",
        "!pip install -U spacy==2.3.0"
      ]
    },
    {
      "cell_type": "markdown",
      "source": [
        "## Download do modelo do Idioma desejado"
      ],
      "metadata": {
        "id": "nQga8FBEqzJ0"
      }
    },
    {
      "cell_type": "markdown",
      "source": [
        "Realizamos o download de alguns modelos prontos. Esses modelos contém informações sobre linguagens, vocabulários, vetores treinados, sintaxes e entidades."
      ],
      "metadata": {
        "id": "nSchrUVaq7Z5"
      }
    },
    {
      "cell_type": "code",
      "source": [
        "from google.colab import drive\n",
        "drive.mount('/content/drive')  "
      ],
      "metadata": {
        "colab": {
          "base_uri": "https://localhost:8080/"
        },
        "id": "nWAOBIW5k_kH",
        "outputId": "71572435-30f2-4cf7-e1be-59bc2cc0f811"
      },
      "execution_count": null,
      "outputs": [
        {
          "output_type": "stream",
          "name": "stdout",
          "text": [
            "Mounted at /content/drive\n"
          ]
        }
      ]
    },
    {
      "cell_type": "code",
      "source": [
        "# Português\n",
        "!python -m spacy download pt_core_news_sm\n",
        "\n",
        "\n",
        "# Inglês\n",
        "!python -m spacy download en_core_web_sm\n"
      ],
      "metadata": {
        "id": "VVR77q9CgxGv"
      },
      "execution_count": null,
      "outputs": []
    },
    {
      "cell_type": "markdown",
      "source": [
        "## <font color=\"orange\">Exemplo 1</font>"
      ],
      "metadata": {
        "id": "-Ney2dMsrwdN"
      }
    },
    {
      "cell_type": "code",
      "source": [
        "# Carregue o modelo\n",
        "import spacy\n",
        "import pt_core_news_sm\n",
        "\n",
        "\n",
        "\n",
        "nlp = pt_core_news_sm.load()\n"
      ],
      "metadata": {
        "id": "FB5aP07LgxCN"
      },
      "execution_count": null,
      "outputs": []
    },
    {
      "cell_type": "code",
      "source": [
        "texto = nlp('Maria mora em Paris')\n"
      ],
      "metadata": {
        "id": "XSXkP-I5gw_3"
      },
      "execution_count": null,
      "outputs": []
    },
    {
      "cell_type": "code",
      "source": [
        "# Interando sobre as entidades identificadas na frase\n",
        "for ent in texto.ents:\n",
        "  print(ent.text + ' - ' + ent.label_ + ' - ' + str(spacy.explain(ent.label_)))\n"
      ],
      "metadata": {
        "colab": {
          "base_uri": "https://localhost:8080/"
        },
        "id": "s6PlcUCqgw9t",
        "outputId": "40e3132e-210f-4e83-e17e-ca2b3596729f"
      },
      "execution_count": null,
      "outputs": [
        {
          "output_type": "stream",
          "name": "stdout",
          "text": [
            "Maria - PER - Named person or family.\n",
            "Paris - LOC - Non-GPE locations, mountain ranges, bodies of water\n"
          ]
        }
      ]
    },
    {
      "cell_type": "code",
      "source": [
        "# Destacando visualmente as entidades da frase e seus tipos\n",
        "spacy.displacy.render(texto, style='ent', jupyter=True)"
      ],
      "metadata": {
        "colab": {
          "base_uri": "https://localhost:8080/",
          "height": 52
        },
        "id": "eyjcEnLAgw7T",
        "outputId": "0202887f-8090-419c-91c3-1ee59deb8dac"
      },
      "execution_count": null,
      "outputs": [
        {
          "output_type": "display_data",
          "data": {
            "text/plain": [
              "<IPython.core.display.HTML object>"
            ],
            "text/html": [
              "<span class=\"tex2jax_ignore\"><div class=\"entities\" style=\"line-height: 2.5; direction: ltr\">\n",
              "<mark class=\"entity\" style=\"background: #ddd; padding: 0.45em 0.6em; margin: 0 0.25em; line-height: 1; border-radius: 0.35em;\">\n",
              "    Maria\n",
              "    <span style=\"font-size: 0.8em; font-weight: bold; line-height: 1; border-radius: 0.35em; text-transform: uppercase; vertical-align: middle; margin-left: 0.5rem\">PER</span>\n",
              "</mark>\n",
              " mora em \n",
              "<mark class=\"entity\" style=\"background: #ff9561; padding: 0.45em 0.6em; margin: 0 0.25em; line-height: 1; border-radius: 0.35em;\">\n",
              "    Paris\n",
              "    <span style=\"font-size: 0.8em; font-weight: bold; line-height: 1; border-radius: 0.35em; text-transform: uppercase; vertical-align: middle; margin-left: 0.5rem\">LOC</span>\n",
              "</mark>\n",
              "</div></span>"
            ]
          },
          "metadata": {}
        }
      ]
    },
    {
      "cell_type": "code",
      "source": [
        "# Visualização do analisador de Dependência\n",
        "spacy.displacy.render(texto, style='dep', jupyter=True)"
      ],
      "metadata": {
        "colab": {
          "base_uri": "https://localhost:8080/",
          "height": 334
        },
        "id": "Oi8g7y5Jr5qV",
        "outputId": "fa80883c-8817-42e5-f8ea-1e24e69e299e"
      },
      "execution_count": null,
      "outputs": [
        {
          "output_type": "display_data",
          "data": {
            "text/plain": [
              "<IPython.core.display.HTML object>"
            ],
            "text/html": [
              "<span class=\"tex2jax_ignore\"><svg xmlns=\"http://www.w3.org/2000/svg\" xmlns:xlink=\"http://www.w3.org/1999/xlink\" xml:lang=\"pt\" id=\"ee2ba45cca7d41c5b152240d671c98bd-0\" class=\"displacy\" width=\"750\" height=\"312.0\" direction=\"ltr\" style=\"max-width: none; height: 312.0px; color: #000000; background: #ffffff; font-family: Arial; direction: ltr\">\n",
              "<text class=\"displacy-token\" fill=\"currentColor\" text-anchor=\"middle\" y=\"222.0\">\n",
              "    <tspan class=\"displacy-word\" fill=\"currentColor\" x=\"50\">Maria</tspan>\n",
              "    <tspan class=\"displacy-tag\" dy=\"2em\" fill=\"currentColor\" x=\"50\">PROPN</tspan>\n",
              "</text>\n",
              "\n",
              "<text class=\"displacy-token\" fill=\"currentColor\" text-anchor=\"middle\" y=\"222.0\">\n",
              "    <tspan class=\"displacy-word\" fill=\"currentColor\" x=\"225\">mora</tspan>\n",
              "    <tspan class=\"displacy-tag\" dy=\"2em\" fill=\"currentColor\" x=\"225\">VERB</tspan>\n",
              "</text>\n",
              "\n",
              "<text class=\"displacy-token\" fill=\"currentColor\" text-anchor=\"middle\" y=\"222.0\">\n",
              "    <tspan class=\"displacy-word\" fill=\"currentColor\" x=\"400\">em</tspan>\n",
              "    <tspan class=\"displacy-tag\" dy=\"2em\" fill=\"currentColor\" x=\"400\">ADP</tspan>\n",
              "</text>\n",
              "\n",
              "<text class=\"displacy-token\" fill=\"currentColor\" text-anchor=\"middle\" y=\"222.0\">\n",
              "    <tspan class=\"displacy-word\" fill=\"currentColor\" x=\"575\">Paris</tspan>\n",
              "    <tspan class=\"displacy-tag\" dy=\"2em\" fill=\"currentColor\" x=\"575\">PROPN</tspan>\n",
              "</text>\n",
              "\n",
              "<g class=\"displacy-arrow\">\n",
              "    <path class=\"displacy-arc\" id=\"arrow-ee2ba45cca7d41c5b152240d671c98bd-0-0\" stroke-width=\"2px\" d=\"M70,177.0 C70,89.5 220.0,89.5 220.0,177.0\" fill=\"none\" stroke=\"currentColor\"/>\n",
              "    <text dy=\"1.25em\" style=\"font-size: 0.8em; letter-spacing: 1px\">\n",
              "        <textPath xlink:href=\"#arrow-ee2ba45cca7d41c5b152240d671c98bd-0-0\" class=\"displacy-label\" startOffset=\"50%\" side=\"left\" fill=\"currentColor\" text-anchor=\"middle\">nsubj</textPath>\n",
              "    </text>\n",
              "    <path class=\"displacy-arrowhead\" d=\"M70,179.0 L62,167.0 78,167.0\" fill=\"currentColor\"/>\n",
              "</g>\n",
              "\n",
              "<g class=\"displacy-arrow\">\n",
              "    <path class=\"displacy-arc\" id=\"arrow-ee2ba45cca7d41c5b152240d671c98bd-0-1\" stroke-width=\"2px\" d=\"M420,177.0 C420,89.5 570.0,89.5 570.0,177.0\" fill=\"none\" stroke=\"currentColor\"/>\n",
              "    <text dy=\"1.25em\" style=\"font-size: 0.8em; letter-spacing: 1px\">\n",
              "        <textPath xlink:href=\"#arrow-ee2ba45cca7d41c5b152240d671c98bd-0-1\" class=\"displacy-label\" startOffset=\"50%\" side=\"left\" fill=\"currentColor\" text-anchor=\"middle\">case</textPath>\n",
              "    </text>\n",
              "    <path class=\"displacy-arrowhead\" d=\"M420,179.0 L412,167.0 428,167.0\" fill=\"currentColor\"/>\n",
              "</g>\n",
              "\n",
              "<g class=\"displacy-arrow\">\n",
              "    <path class=\"displacy-arc\" id=\"arrow-ee2ba45cca7d41c5b152240d671c98bd-0-2\" stroke-width=\"2px\" d=\"M245,177.0 C245,2.0 575.0,2.0 575.0,177.0\" fill=\"none\" stroke=\"currentColor\"/>\n",
              "    <text dy=\"1.25em\" style=\"font-size: 0.8em; letter-spacing: 1px\">\n",
              "        <textPath xlink:href=\"#arrow-ee2ba45cca7d41c5b152240d671c98bd-0-2\" class=\"displacy-label\" startOffset=\"50%\" side=\"left\" fill=\"currentColor\" text-anchor=\"middle\">obl</textPath>\n",
              "    </text>\n",
              "    <path class=\"displacy-arrowhead\" d=\"M575.0,179.0 L583.0,167.0 567.0,167.0\" fill=\"currentColor\"/>\n",
              "</g>\n",
              "</svg></span>"
            ]
          },
          "metadata": {}
        }
      ]
    },
    {
      "cell_type": "code",
      "source": [
        "# Aqui vamos ver a definição do tipo de Entidade, no PORTUGUÊS\n",
        "\n",
        "print(\"PER: \", spacy.explain('PER'))\n",
        "print(\"LOC: \", spacy.explain('LOC'))\n",
        "print(\"ORG: \", spacy.explain('ORG'))\n",
        "print(\"MISC: \", spacy.explain('MISC'))\n"
      ],
      "metadata": {
        "colab": {
          "base_uri": "https://localhost:8080/"
        },
        "id": "zCGFO_-_r5oL",
        "outputId": "1901907c-01ec-4dcc-c496-f66df99c1c00"
      },
      "execution_count": null,
      "outputs": [
        {
          "output_type": "stream",
          "name": "stdout",
          "text": [
            "PER:  Named person or family.\n",
            "LOC:  Non-GPE locations, mountain ranges, bodies of water\n",
            "ORG:  Companies, agencies, institutions, etc.\n",
            "MISC:  Miscellaneous entities, e.g. events, nationalities, products or works of art\n"
          ]
        }
      ]
    },
    {
      "cell_type": "markdown",
      "source": [
        "## <font color=\"orange\">Exemplo 2</font>"
      ],
      "metadata": {
        "id": "1xRt0j-uyIrh"
      }
    },
    {
      "cell_type": "markdown",
      "source": [
        "Muita atenção neste exemplo, proque aqui vamos a começar a aprender como re-treinar este modelo para poder identificar novas entidades. Por ``exemplo:`` a entidade data."
      ],
      "metadata": {
        "id": "NoOkBKamyMFV"
      }
    },
    {
      "cell_type": "code",
      "source": [
        "text = nlp(\"Juliana nasceu no dia 18/06/2018 em Fortaleza\")"
      ],
      "metadata": {
        "id": "crhZmRBPr5l_"
      },
      "execution_count": null,
      "outputs": []
    },
    {
      "cell_type": "code",
      "source": [
        "# Destacamos as entidades da frase anterior e seus tipos\n",
        "spacy.displacy.render(text, style='ent', jupyter=True)"
      ],
      "metadata": {
        "colab": {
          "base_uri": "https://localhost:8080/",
          "height": 52
        },
        "id": "ezWgg312r5j2",
        "outputId": "cd9dfb9b-63bf-4516-859d-2ba509152e91"
      },
      "execution_count": null,
      "outputs": [
        {
          "output_type": "display_data",
          "data": {
            "text/plain": [
              "<IPython.core.display.HTML object>"
            ],
            "text/html": [
              "<span class=\"tex2jax_ignore\"><div class=\"entities\" style=\"line-height: 2.5; direction: ltr\">\n",
              "<mark class=\"entity\" style=\"background: #ddd; padding: 0.45em 0.6em; margin: 0 0.25em; line-height: 1; border-radius: 0.35em;\">\n",
              "    Juliana\n",
              "    <span style=\"font-size: 0.8em; font-weight: bold; line-height: 1; border-radius: 0.35em; text-transform: uppercase; vertical-align: middle; margin-left: 0.5rem\">PER</span>\n",
              "</mark>\n",
              " nasceu no dia 18/06/2018 em \n",
              "<mark class=\"entity\" style=\"background: #ff9561; padding: 0.45em 0.6em; margin: 0 0.25em; line-height: 1; border-radius: 0.35em;\">\n",
              "    Fortaleza\n",
              "    <span style=\"font-size: 0.8em; font-weight: bold; line-height: 1; border-radius: 0.35em; text-transform: uppercase; vertical-align: middle; margin-left: 0.5rem\">LOC</span>\n",
              "</mark>\n",
              "</div></span>"
            ]
          },
          "metadata": {}
        }
      ]
    },
    {
      "cell_type": "code",
      "source": [
        "for entidade in text.ents:\n",
        "  print(entidade.text, entidade.label_)"
      ],
      "metadata": {
        "colab": {
          "base_uri": "https://localhost:8080/"
        },
        "id": "3wwxiK9O1eam",
        "outputId": "e9d3927e-57c4-4b94-a38b-96fb8e224ff2"
      },
      "execution_count": null,
      "outputs": [
        {
          "output_type": "stream",
          "name": "stdout",
          "text": [
            "Juliana PER\n",
            "Fortaleza LOC\n"
          ]
        }
      ]
    },
    {
      "cell_type": "markdown",
      "source": [
        "Como pode ser observado acima, o modelo não-indentificou a ``data`` em ``text``. O spaCy permite inserir Dados para re-treinar o algoritmo e com isso melhorar o modelo. Ou até mesmo, gerar modelos novos, caso necessário. \n",
        "\n",
        "Então, como a entidade **data** não foi identificada, podemos inserir alguns exemplos e <font color=\"red\">re-treinar</font> o algoritmo para que este aprenda novos padrões.   "
      ],
      "metadata": {
        "id": "dqDfRPiDzooL"
      }
    },
    {
      "cell_type": "markdown",
      "source": [
        "# Treinando Dados com o spaCy"
      ],
      "metadata": {
        "id": "qec7CAda0575"
      }
    },
    {
      "cell_type": "code",
      "source": [
        "import random"
      ],
      "metadata": {
        "id": "3k8VFeK-r5hf"
      },
      "execution_count": null,
      "outputs": []
    },
    {
      "cell_type": "markdown",
      "source": [
        "## Conjunto de Dados de Treino\n",
        "\n",
        "Os Dados de treinamento precisam estar no seguinte formato"
      ],
      "metadata": {
        "id": "zA-JqKEw2Abk"
      }
    },
    {
      "cell_type": "code",
      "source": [
        "TRAIN_DATA = [\n",
        "             (\"Almira é uma ótima pessoa, gosto muito dela\", {\"entities\": [(0, 6, \"PER\")]}),\n",
        "             (\"João foi para Bahia nas férias\", {\"entities\": [(0, 4, \"PER\")]}),\n",
        "             (\"Carlos foi visitar João na casa de praia\", {\"entities\": [(0, 6, \"PER\"), (19, 23, \"PER\")]}),\n",
        "             (\"No meio do ano irei para São Paulo fazer mais um curso\", {\"entities\": [(25, 34, \"LOC\")]}),\n",
        "             (\"O sonho dela era ir para Austrália visitar seu irmão\", {\"entities\": [(25, 34, \"LOC\")]}),\n",
        "             (\"Em 15/07/1988 nasceu essa linda criançã\", {\"entities\": [(3, 13, \"DATE\"), (18, 24, \"LOC\")]}),\n",
        "             (\"Data de prisão: 10/01/2018\", {\"entities\": [(16, 26, \"DATE\")]}),\n",
        "             (\"No dia 01/02/2016 foi decretada a sentença\", {\"entities\": [(7, 17, \"DATE\")]}),\n",
        "             (\"A data da festa foi 07/05/2018\", {\"entities\": [(20, 30, \"DATE\")]}),\n",
        "             (\"Dia 07/06/2020 choveu pela manhã\", {\"entities\": [(4, 14, \"DATE\")]}),\n",
        "             (\"Michael Jackson nasceu dia 29/08/1958\", {\"entities\": [(0, 15, \"PER\"), (27, 37, \"DATE\")]}),\n",
        "             (\"A viagem foi marcada para o dia 21/03/2021\", {\"entities\": [(32, 42, \"DATE\")]}),\n",
        "             (\"O casamento, que era dia 12/06/2020, foi adiado para o dia 20/07/2020\", {\"entities\": [(25, 35, \"DATE\"), (59, 68, \"DATE\")]}),\n",
        "             (\"Dia 21/04/2020 foi feriado\", {\"entities\": [(4, 14, \"DATE\")]}),\n",
        "             (\"A entrada foi realizada na manhã do dia 18/03/2020\", {\"entities\": [(40, 50, \"DATE\")]}),\n",
        "             (\"Na noite do dia 17/05/2019 aconteceu um eclipse\", {\"entities\": [(16, 26, \"DATE\")]}),\n",
        "             (\"Fortaleza é a capital do Ceará\", {\"entities\": [(0, 9, \"LOC\"), (25, 30, \"LOC\")]})\n",
        "             ]\n",
        "\n"
      ],
      "metadata": {
        "id": "jbqvFLhar5fS"
      },
      "execution_count": null,
      "outputs": []
    },
    {
      "cell_type": "markdown",
      "source": [
        "## Função de treino"
      ],
      "metadata": {
        "id": "E-l9TdE7GLce"
      }
    },
    {
      "cell_type": "code",
      "source": [
        "def train_spacy(data, n_iter):\n",
        "  TRAIN_DATA = data\n",
        "  \"\"\"Carrega o modelo, configura o pipeline e treina o reconhecedor da entidade.\"\"\"\n",
        "  nlp = pt_core_news_sm.load() # Carrega o modelo de spaCy existente\n",
        "  print(\"Modelo carregado\")\n",
        "\n",
        "  # Criando os componentes internos do pipeline e adicionando-os ao pipeline\n",
        "  # nlp.create_pipe funciona para built-ins registrados com spaCy\n",
        "  if \"ner\" not in nlp.pipe_names:\n",
        "    ner = nlp.create_pipe(\"ner\")\n",
        "    nlp.add_pipe(ner, last=True)\n",
        "  # Caso contrário, obtenha-o para que possa adicionar as labels\n",
        "  else:\n",
        "    ner = nlp.get_pipe(\"ner\")\n",
        "\n",
        "  # Adicionamos as labels\n",
        "  for _, annotations in TRAIN_DATA:\n",
        "    for ent in annotations.get('entities'):\n",
        "      ner.add_label(ent[2])\n",
        "\n",
        "  # Obtendo os nomes de outros pipes para desativá-los durante o treinamento\n",
        "  other_pipes = [pipe for pipe in nlp.pipe_names if pipe != 'ner']\n",
        "  with nlp.disable_pipes(*other_pipes): # Treina somente NER               \n",
        "    spacy.util.fix_random_seed()\n",
        "    optimizer = nlp.begin_training()\n",
        "\n",
        "    for itn in range(n_iter):\n",
        "      random.seed(10)\n",
        "      random.shuffle(TRAIN_DATA)\n",
        "      losses = {}\n",
        "\n",
        "      for texts, annotations in TRAIN_DATA:\n",
        "        nlp.update(\n",
        "            [texts], # batch de textos\n",
        "            [annotations], # batch de anotações\n",
        "            drop = 0.2, # dropout  - dificulta a memorização de Dados\n",
        "            sgd = optimizer,\n",
        "            losses = losses,\n",
        "        )\n",
        "      print(\"Losses\", losses)\n",
        "\n",
        "  # test the trained model\n",
        "    for text, _ in TRAIN_DATA:\n",
        "      doc = nlp(text)\n",
        "      print(\"Entities\", [(ent.text, ent.label_) for ent in doc.ents])\n",
        "      print(\"Tokens\", [(t.text, t.ent_type_) for t in doc])\n",
        "      print(\"\\n\")\n",
        "  return nlp\n",
        "\n",
        "\n"
      ],
      "metadata": {
        "id": "rrPy0PlBr5Yy"
      },
      "execution_count": null,
      "outputs": []
    },
    {
      "cell_type": "code",
      "source": [
        "nlp_ = train_spacy(data=TRAIN_DATA, n_iter=100)"
      ],
      "metadata": {
        "colab": {
          "base_uri": "https://localhost:8080/"
        },
        "id": "2Lg3XULZr5Wj",
        "outputId": "ffe2dfe6-a336-4f26-9abf-23519b7f8a74"
      },
      "execution_count": null,
      "outputs": [
        {
          "output_type": "stream",
          "name": "stdout",
          "text": [
            "Modelo carregado\n"
          ]
        },
        {
          "output_type": "stream",
          "name": "stderr",
          "text": [
            "/usr/local/lib/python3.7/dist-packages/spacy/language.py:479: UserWarning: [W030] Some entities could not be aligned in the text \"Em 15/07/1988 nasceu essa linda criançã\" with entities \"[(3, 13, 'DATE'), (18, 24, 'LOC')]\". Use `spacy.gold.biluo_tags_from_offsets(nlp.make_doc(text), entities)` to check the alignment. Misaligned entities ('-') will be ignored during training.\n",
            "  gold = GoldParse(doc, **gold)\n",
            "/usr/local/lib/python3.7/dist-packages/spacy/language.py:479: UserWarning: [W030] Some entities could not be aligned in the text \"O casamento, que era dia 12/06/2020, foi adiado pa...\" with entities \"[(25, 35, 'DATE'), (59, 68, 'DATE')]\". Use `spacy.gold.biluo_tags_from_offsets(nlp.make_doc(text), entities)` to check the alignment. Misaligned entities ('-') will be ignored during training.\n",
            "  gold = GoldParse(doc, **gold)\n"
          ]
        },
        {
          "output_type": "stream",
          "name": "stdout",
          "text": [
            "Losses {'ner': 39.61598721454282}\n",
            "Losses {'ner': 55.484432003635554}\n",
            "Losses {'ner': 44.32040596795899}\n",
            "Losses {'ner': 46.91603397027484}\n",
            "Losses {'ner': 37.964875121598716}\n",
            "Losses {'ner': 36.16382461610986}\n",
            "Losses {'ner': 36.32059884441363}\n",
            "Losses {'ner': 44.82099674137251}\n",
            "Losses {'ner': 41.183597052131134}\n",
            "Losses {'ner': 47.00080533053976}\n",
            "Losses {'ner': 26.708720936934014}\n",
            "Losses {'ner': 48.79738893005583}\n",
            "Losses {'ner': 35.25586789193752}\n",
            "Losses {'ner': 38.146862466982}\n",
            "Losses {'ner': 34.06014412104608}\n",
            "Losses {'ner': 36.25861217177124}\n",
            "Losses {'ner': 33.98607643201062}\n",
            "Losses {'ner': 31.990328203294425}\n",
            "Losses {'ner': 47.87567397926539}\n",
            "Losses {'ner': 26.712966879150873}\n",
            "Losses {'ner': 33.71569736585529}\n",
            "Losses {'ner': 34.76999111470231}\n",
            "Losses {'ner': 47.19565334923136}\n",
            "Losses {'ner': 39.8086843298525}\n",
            "Losses {'ner': 31.534044918789593}\n",
            "Losses {'ner': 33.999546540443234}\n",
            "Losses {'ner': 46.808082137540524}\n",
            "Losses {'ner': 26.83759058091326}\n",
            "Losses {'ner': 29.68049907996788}\n",
            "Losses {'ner': 38.29911635861933}\n",
            "Losses {'ner': 69.79125555183734}\n",
            "Losses {'ner': 40.136077598024286}\n",
            "Losses {'ner': 34.15716066540864}\n",
            "Losses {'ner': 35.404542687721204}\n",
            "Losses {'ner': 45.151417999034486}\n",
            "Losses {'ner': 33.001988634208935}\n",
            "Losses {'ner': 35.51205595777576}\n",
            "Losses {'ner': 29.951997547233958}\n",
            "Losses {'ner': 25.590180502659834}\n",
            "Losses {'ner': 34.07445019677043}\n",
            "Losses {'ner': 39.225036748889096}\n",
            "Losses {'ner': 43.62354605917588}\n",
            "Losses {'ner': 32.03435280679751}\n",
            "Losses {'ner': 43.90119832454696}\n",
            "Losses {'ner': 41.41060045547298}\n",
            "Losses {'ner': 27.636998835680355}\n",
            "Losses {'ner': 59.1344900811984}\n",
            "Losses {'ner': 29.047966760456077}\n",
            "Losses {'ner': 31.002304855896636}\n",
            "Losses {'ner': 59.86984807355187}\n",
            "Losses {'ner': 31.749324421680804}\n",
            "Losses {'ner': 39.164142129726095}\n",
            "Losses {'ner': 46.44533155838478}\n",
            "Losses {'ner': 35.273185225095844}\n",
            "Losses {'ner': 26.36207620725497}\n",
            "Losses {'ner': 39.827612060457426}\n",
            "Losses {'ner': 46.31731461559924}\n",
            "Losses {'ner': 42.07581333866376}\n",
            "Losses {'ner': 42.60372768991655}\n",
            "Losses {'ner': 33.63581681487182}\n",
            "Losses {'ner': 47.323708662318246}\n",
            "Losses {'ner': 44.66341598967164}\n",
            "Losses {'ner': 45.78085725001929}\n",
            "Losses {'ner': 39.838115746934506}\n",
            "Losses {'ner': 29.09022664392263}\n",
            "Losses {'ner': 33.924755749589714}\n",
            "Losses {'ner': 38.11542578598115}\n",
            "Losses {'ner': 26.279789229848312}\n",
            "Losses {'ner': 31.5182535818543}\n",
            "Losses {'ner': 42.99614281929446}\n",
            "Losses {'ner': 28.278062281525756}\n",
            "Losses {'ner': 44.12401451300011}\n",
            "Losses {'ner': 45.52213031995807}\n",
            "Losses {'ner': 38.13345726635751}\n",
            "Losses {'ner': 38.810508215422125}\n",
            "Losses {'ner': 40.71256698041311}\n",
            "Losses {'ner': 21.62308845510214}\n",
            "Losses {'ner': 30.4135759848086}\n",
            "Losses {'ner': 39.29582664254434}\n",
            "Losses {'ner': 47.02278402372386}\n",
            "Losses {'ner': 40.17544992705935}\n",
            "Losses {'ner': 38.232717349113145}\n",
            "Losses {'ner': 28.145329546211}\n",
            "Losses {'ner': 28.125268148551342}\n",
            "Losses {'ner': 39.30172411982939}\n",
            "Losses {'ner': 41.65691742125844}\n",
            "Losses {'ner': 45.01327102348552}\n",
            "Losses {'ner': 45.044471894580255}\n",
            "Losses {'ner': 34.52300309566315}\n",
            "Losses {'ner': 42.01198597904087}\n",
            "Losses {'ner': 37.612525817531555}\n",
            "Losses {'ner': 21.08688897292611}\n",
            "Losses {'ner': 40.310226260423825}\n",
            "Losses {'ner': 30.579994665310423}\n",
            "Losses {'ner': 31.192034681135688}\n",
            "Losses {'ner': 39.34162717865857}\n",
            "Losses {'ner': 36.35877647311277}\n",
            "Losses {'ner': 37.25225417486541}\n",
            "Losses {'ner': 27.508425246331146}\n",
            "Losses {'ner': 54.58121396565763}\n",
            "Entities [('10/01/2018', 'DATE')]\n",
            "Tokens [('Data', ''), ('de', ''), ('prisão', ''), (':', ''), ('10/01/2018', 'DATE')]\n",
            "\n",
            "\n",
            "Entities [('Almira', 'PER')]\n",
            "Tokens [('Almira', 'PER'), ('é', ''), ('uma', ''), ('ótima', ''), ('pessoa', ''), (',', ''), ('gosto', ''), ('muito', ''), ('dela', '')]\n",
            "\n",
            "\n",
            "Entities [('18/03/2020', 'DATE')]\n",
            "Tokens [('A', ''), ('entrada', ''), ('foi', ''), ('realizada', ''), ('na', ''), ('manhã', ''), ('do', ''), ('dia', ''), ('18/03/2020', 'DATE')]\n",
            "\n",
            "\n",
            "Entities [('Austrália', 'LOC')]\n",
            "Tokens [('O', ''), ('sonho', ''), ('dela', ''), ('era', ''), ('ir', ''), ('para', ''), ('Austrália', 'LOC'), ('visitar', ''), ('seu', ''), ('irmão', '')]\n",
            "\n",
            "\n",
            "Entities [('15/07/1988', 'DATE')]\n",
            "Tokens [('Em', ''), ('15/07/1988', 'DATE'), ('nasceu', ''), ('essa', ''), ('linda', ''), ('criançã', '')]\n",
            "\n",
            "\n",
            "Entities [('Fortaleza', 'LOC'), ('Ceará', 'LOC')]\n",
            "Tokens [('Fortaleza', 'LOC'), ('é', ''), ('a', ''), ('capital', ''), ('do', ''), ('Ceará', 'LOC')]\n",
            "\n",
            "\n",
            "Entities [('01/02/2016', 'DATE')]\n",
            "Tokens [('No', ''), ('dia', ''), ('01/02/2016', 'DATE'), ('foi', ''), ('decretada', ''), ('a', ''), ('sentença', '')]\n",
            "\n",
            "\n",
            "Entities [('Michael Jackson', 'PER'), ('29/08/1958', 'DATE')]\n",
            "Tokens [('Michael', 'PER'), ('Jackson', 'PER'), ('nasceu', ''), ('dia', ''), ('29/08/1958', 'DATE')]\n",
            "\n",
            "\n",
            "Entities [('João', 'PER')]\n",
            "Tokens [('João', 'PER'), ('foi', ''), ('para', ''), ('Bahia', ''), ('nas', ''), ('férias', '')]\n",
            "\n",
            "\n",
            "Entities [('17/05/2019', 'DATE')]\n",
            "Tokens [('Na', ''), ('noite', ''), ('do', ''), ('dia', ''), ('17/05/2019', 'DATE'), ('aconteceu', ''), ('um', ''), ('eclipse', '')]\n",
            "\n",
            "\n",
            "Entities [('21/04/2020', 'DATE')]\n",
            "Tokens [('Dia', ''), ('21/04/2020', 'DATE'), ('foi', ''), ('feriado', '')]\n",
            "\n",
            "\n",
            "Entities [('07/05/2018', 'DATE')]\n",
            "Tokens [('A', ''), ('data', ''), ('da', ''), ('festa', ''), ('foi', ''), ('07/05/2018', 'DATE')]\n",
            "\n",
            "\n",
            "Entities [('Carlos', 'PER'), ('João', 'PER')]\n",
            "Tokens [('Carlos', 'PER'), ('foi', ''), ('visitar', ''), ('João', 'PER'), ('na', ''), ('casa', ''), ('de', ''), ('praia', '')]\n",
            "\n",
            "\n",
            "Entities [('São Paulo', 'LOC')]\n",
            "Tokens [('No', ''), ('meio', ''), ('do', ''), ('ano', ''), ('irei', ''), ('para', ''), ('São', 'LOC'), ('Paulo', 'LOC'), ('fazer', ''), ('mais', ''), ('um', ''), ('curso', '')]\n",
            "\n",
            "\n",
            "Entities [('07/06/2020', 'DATE')]\n",
            "Tokens [('Dia', ''), ('07/06/2020', 'DATE'), ('choveu', ''), ('pela', ''), ('manhã', '')]\n",
            "\n",
            "\n",
            "Entities [('21/03/2021', 'DATE')]\n",
            "Tokens [('A', ''), ('viagem', ''), ('foi', ''), ('marcada', ''), ('para', ''), ('o', ''), ('dia', ''), ('21/03/2021', 'DATE')]\n",
            "\n",
            "\n",
            "Entities [('12/06/2020', 'DATE'), ('20/07/2020', 'DATE')]\n",
            "Tokens [('O', ''), ('casamento', ''), (',', ''), ('que', ''), ('era', ''), ('dia', ''), ('12/06/2020', 'DATE'), (',', ''), ('foi', ''), ('adiado', ''), ('para', ''), ('o', ''), ('dia', ''), ('20/07/2020', 'DATE')]\n",
            "\n",
            "\n"
          ]
        }
      ]
    },
    {
      "cell_type": "code",
      "source": [
        "text = nlp_(\"Juliana nasceu no dia 18/06/2018 em Fortaleza\")\n",
        "\n",
        "spacy.displacy.render(text, style='ent', jupyter=True)"
      ],
      "metadata": {
        "colab": {
          "base_uri": "https://localhost:8080/",
          "height": 52
        },
        "id": "c1g_-0urFSW2",
        "outputId": "6e7f88ed-0bcb-438b-e45b-397d81b75fbb"
      },
      "execution_count": null,
      "outputs": [
        {
          "output_type": "display_data",
          "data": {
            "text/plain": [
              "<IPython.core.display.HTML object>"
            ],
            "text/html": [
              "<span class=\"tex2jax_ignore\"><div class=\"entities\" style=\"line-height: 2.5; direction: ltr\">\n",
              "<mark class=\"entity\" style=\"background: #ddd; padding: 0.45em 0.6em; margin: 0 0.25em; line-height: 1; border-radius: 0.35em;\">\n",
              "    Juliana\n",
              "    <span style=\"font-size: 0.8em; font-weight: bold; line-height: 1; border-radius: 0.35em; text-transform: uppercase; vertical-align: middle; margin-left: 0.5rem\">PER</span>\n",
              "</mark>\n",
              " nasceu no dia \n",
              "<mark class=\"entity\" style=\"background: #bfe1d9; padding: 0.45em 0.6em; margin: 0 0.25em; line-height: 1; border-radius: 0.35em;\">\n",
              "    18/06/2018\n",
              "    <span style=\"font-size: 0.8em; font-weight: bold; line-height: 1; border-radius: 0.35em; text-transform: uppercase; vertical-align: middle; margin-left: 0.5rem\">DATE</span>\n",
              "</mark>\n",
              " em \n",
              "<mark class=\"entity\" style=\"background: #ff9561; padding: 0.45em 0.6em; margin: 0 0.25em; line-height: 1; border-radius: 0.35em;\">\n",
              "    Fortaleza\n",
              "    <span style=\"font-size: 0.8em; font-weight: bold; line-height: 1; border-radius: 0.35em; text-transform: uppercase; vertical-align: middle; margin-left: 0.5rem\">LOC</span>\n",
              "</mark>\n",
              "</div></span>"
            ]
          },
          "metadata": {}
        }
      ]
    },
    {
      "cell_type": "code",
      "source": [
        "for entidade in text.ents:\n",
        "  print(entidade.text, entidade.label_)"
      ],
      "metadata": {
        "colab": {
          "base_uri": "https://localhost:8080/"
        },
        "id": "-Ybg-UR7gpu2",
        "outputId": "989e0d92-e16b-4699-ad78-a6b148f6daaa"
      },
      "execution_count": null,
      "outputs": [
        {
          "output_type": "stream",
          "name": "stdout",
          "text": [
            "Juliana PER\n",
            "18/06/2018 DATE\n",
            "Fortaleza LOC\n"
          ]
        }
      ]
    },
    {
      "cell_type": "code",
      "source": [
        "spacy.displacy.render(text, style='dep',jupyter=True)"
      ],
      "metadata": {
        "colab": {
          "base_uri": "https://localhost:8080/",
          "height": 421
        },
        "id": "OmAJeB60gsmU",
        "outputId": "3544c593-d827-4c0d-b22d-ee81dee7e017"
      },
      "execution_count": null,
      "outputs": [
        {
          "output_type": "display_data",
          "data": {
            "text/plain": [
              "<IPython.core.display.HTML object>"
            ],
            "text/html": [
              "<span class=\"tex2jax_ignore\"><svg xmlns=\"http://www.w3.org/2000/svg\" xmlns:xlink=\"http://www.w3.org/1999/xlink\" xml:lang=\"pt\" id=\"c65f619313fd42c7a23e68b6102c54d2-0\" class=\"displacy\" width=\"1275\" height=\"399.5\" direction=\"ltr\" style=\"max-width: none; height: 399.5px; color: #000000; background: #ffffff; font-family: Arial; direction: ltr\">\n",
              "<text class=\"displacy-token\" fill=\"currentColor\" text-anchor=\"middle\" y=\"309.5\">\n",
              "    <tspan class=\"displacy-word\" fill=\"currentColor\" x=\"50\">Juliana</tspan>\n",
              "    <tspan class=\"displacy-tag\" dy=\"2em\" fill=\"currentColor\" x=\"50\">PROPN</tspan>\n",
              "</text>\n",
              "\n",
              "<text class=\"displacy-token\" fill=\"currentColor\" text-anchor=\"middle\" y=\"309.5\">\n",
              "    <tspan class=\"displacy-word\" fill=\"currentColor\" x=\"225\">nasceu</tspan>\n",
              "    <tspan class=\"displacy-tag\" dy=\"2em\" fill=\"currentColor\" x=\"225\">VERB</tspan>\n",
              "</text>\n",
              "\n",
              "<text class=\"displacy-token\" fill=\"currentColor\" text-anchor=\"middle\" y=\"309.5\">\n",
              "    <tspan class=\"displacy-word\" fill=\"currentColor\" x=\"400\">no</tspan>\n",
              "    <tspan class=\"displacy-tag\" dy=\"2em\" fill=\"currentColor\" x=\"400\">DET</tspan>\n",
              "</text>\n",
              "\n",
              "<text class=\"displacy-token\" fill=\"currentColor\" text-anchor=\"middle\" y=\"309.5\">\n",
              "    <tspan class=\"displacy-word\" fill=\"currentColor\" x=\"575\">dia</tspan>\n",
              "    <tspan class=\"displacy-tag\" dy=\"2em\" fill=\"currentColor\" x=\"575\">NOUN</tspan>\n",
              "</text>\n",
              "\n",
              "<text class=\"displacy-token\" fill=\"currentColor\" text-anchor=\"middle\" y=\"309.5\">\n",
              "    <tspan class=\"displacy-word\" fill=\"currentColor\" x=\"750\">18/06/2018</tspan>\n",
              "    <tspan class=\"displacy-tag\" dy=\"2em\" fill=\"currentColor\" x=\"750\">NUM</tspan>\n",
              "</text>\n",
              "\n",
              "<text class=\"displacy-token\" fill=\"currentColor\" text-anchor=\"middle\" y=\"309.5\">\n",
              "    <tspan class=\"displacy-word\" fill=\"currentColor\" x=\"925\">em</tspan>\n",
              "    <tspan class=\"displacy-tag\" dy=\"2em\" fill=\"currentColor\" x=\"925\">ADP</tspan>\n",
              "</text>\n",
              "\n",
              "<text class=\"displacy-token\" fill=\"currentColor\" text-anchor=\"middle\" y=\"309.5\">\n",
              "    <tspan class=\"displacy-word\" fill=\"currentColor\" x=\"1100\">Fortaleza</tspan>\n",
              "    <tspan class=\"displacy-tag\" dy=\"2em\" fill=\"currentColor\" x=\"1100\">PROPN</tspan>\n",
              "</text>\n",
              "\n",
              "<g class=\"displacy-arrow\">\n",
              "    <path class=\"displacy-arc\" id=\"arrow-c65f619313fd42c7a23e68b6102c54d2-0-0\" stroke-width=\"2px\" d=\"M70,264.5 C70,177.0 215.0,177.0 215.0,264.5\" fill=\"none\" stroke=\"currentColor\"/>\n",
              "    <text dy=\"1.25em\" style=\"font-size: 0.8em; letter-spacing: 1px\">\n",
              "        <textPath xlink:href=\"#arrow-c65f619313fd42c7a23e68b6102c54d2-0-0\" class=\"displacy-label\" startOffset=\"50%\" side=\"left\" fill=\"currentColor\" text-anchor=\"middle\">nsubj</textPath>\n",
              "    </text>\n",
              "    <path class=\"displacy-arrowhead\" d=\"M70,266.5 L62,254.5 78,254.5\" fill=\"currentColor\"/>\n",
              "</g>\n",
              "\n",
              "<g class=\"displacy-arrow\">\n",
              "    <path class=\"displacy-arc\" id=\"arrow-c65f619313fd42c7a23e68b6102c54d2-0-1\" stroke-width=\"2px\" d=\"M420,264.5 C420,177.0 565.0,177.0 565.0,264.5\" fill=\"none\" stroke=\"currentColor\"/>\n",
              "    <text dy=\"1.25em\" style=\"font-size: 0.8em; letter-spacing: 1px\">\n",
              "        <textPath xlink:href=\"#arrow-c65f619313fd42c7a23e68b6102c54d2-0-1\" class=\"displacy-label\" startOffset=\"50%\" side=\"left\" fill=\"currentColor\" text-anchor=\"middle\">case</textPath>\n",
              "    </text>\n",
              "    <path class=\"displacy-arrowhead\" d=\"M420,266.5 L412,254.5 428,254.5\" fill=\"currentColor\"/>\n",
              "</g>\n",
              "\n",
              "<g class=\"displacy-arrow\">\n",
              "    <path class=\"displacy-arc\" id=\"arrow-c65f619313fd42c7a23e68b6102c54d2-0-2\" stroke-width=\"2px\" d=\"M245,264.5 C245,89.5 570.0,89.5 570.0,264.5\" fill=\"none\" stroke=\"currentColor\"/>\n",
              "    <text dy=\"1.25em\" style=\"font-size: 0.8em; letter-spacing: 1px\">\n",
              "        <textPath xlink:href=\"#arrow-c65f619313fd42c7a23e68b6102c54d2-0-2\" class=\"displacy-label\" startOffset=\"50%\" side=\"left\" fill=\"currentColor\" text-anchor=\"middle\">obl</textPath>\n",
              "    </text>\n",
              "    <path class=\"displacy-arrowhead\" d=\"M570.0,266.5 L578.0,254.5 562.0,254.5\" fill=\"currentColor\"/>\n",
              "</g>\n",
              "\n",
              "<g class=\"displacy-arrow\">\n",
              "    <path class=\"displacy-arc\" id=\"arrow-c65f619313fd42c7a23e68b6102c54d2-0-3\" stroke-width=\"2px\" d=\"M595,264.5 C595,177.0 740.0,177.0 740.0,264.5\" fill=\"none\" stroke=\"currentColor\"/>\n",
              "    <text dy=\"1.25em\" style=\"font-size: 0.8em; letter-spacing: 1px\">\n",
              "        <textPath xlink:href=\"#arrow-c65f619313fd42c7a23e68b6102c54d2-0-3\" class=\"displacy-label\" startOffset=\"50%\" side=\"left\" fill=\"currentColor\" text-anchor=\"middle\">nummod</textPath>\n",
              "    </text>\n",
              "    <path class=\"displacy-arrowhead\" d=\"M740.0,266.5 L748.0,254.5 732.0,254.5\" fill=\"currentColor\"/>\n",
              "</g>\n",
              "\n",
              "<g class=\"displacy-arrow\">\n",
              "    <path class=\"displacy-arc\" id=\"arrow-c65f619313fd42c7a23e68b6102c54d2-0-4\" stroke-width=\"2px\" d=\"M945,264.5 C945,177.0 1090.0,177.0 1090.0,264.5\" fill=\"none\" stroke=\"currentColor\"/>\n",
              "    <text dy=\"1.25em\" style=\"font-size: 0.8em; letter-spacing: 1px\">\n",
              "        <textPath xlink:href=\"#arrow-c65f619313fd42c7a23e68b6102c54d2-0-4\" class=\"displacy-label\" startOffset=\"50%\" side=\"left\" fill=\"currentColor\" text-anchor=\"middle\">case</textPath>\n",
              "    </text>\n",
              "    <path class=\"displacy-arrowhead\" d=\"M945,266.5 L937,254.5 953,254.5\" fill=\"currentColor\"/>\n",
              "</g>\n",
              "\n",
              "<g class=\"displacy-arrow\">\n",
              "    <path class=\"displacy-arc\" id=\"arrow-c65f619313fd42c7a23e68b6102c54d2-0-5\" stroke-width=\"2px\" d=\"M245,264.5 C245,2.0 1100.0,2.0 1100.0,264.5\" fill=\"none\" stroke=\"currentColor\"/>\n",
              "    <text dy=\"1.25em\" style=\"font-size: 0.8em; letter-spacing: 1px\">\n",
              "        <textPath xlink:href=\"#arrow-c65f619313fd42c7a23e68b6102c54d2-0-5\" class=\"displacy-label\" startOffset=\"50%\" side=\"left\" fill=\"currentColor\" text-anchor=\"middle\">obl</textPath>\n",
              "    </text>\n",
              "    <path class=\"displacy-arrowhead\" d=\"M1100.0,266.5 L1108.0,254.5 1092.0,254.5\" fill=\"currentColor\"/>\n",
              "</g>\n",
              "</svg></span>"
            ]
          },
          "metadata": {}
        }
      ]
    },
    {
      "cell_type": "markdown",
      "source": [
        "# Utilizando um dataset\n"
      ],
      "metadata": {
        "id": "RzBc_2Q7iA4R"
      }
    },
    {
      "cell_type": "markdown",
      "source": [
        "Dataset do kaggle: [justdoit_tweets](https://www.kaggle.com/nulldata/intro-to-nlp-basics-with-spacy/data?select=justdoit_tweets_2018_09_07_2.csv)\n",
        "\n",
        "Este conjunto de dados contém vários tweets que acompanham a tag #JustDoIt depois que a Nike lançou a campanha publicitária com Colin Kaepernick, que se tornou controversa."
      ],
      "metadata": {
        "id": "7kJMtwinkngr"
      }
    },
    {
      "cell_type": "code",
      "source": [
        "# Importamos as nossas Bibliotecas\n",
        "\n",
        "import pandas as pd  \n",
        "from collections import Counter #for counting\n",
        "import seaborn as sns #for visualization\n",
        "import en_core_web_sm"
      ],
      "metadata": {
        "id": "RZv1F9t5gsj7"
      },
      "execution_count": null,
      "outputs": []
    },
    {
      "cell_type": "code",
      "source": [
        "nlp = en_core_web_sm.load()"
      ],
      "metadata": {
        "id": "Cu36W9eIgsh2"
      },
      "execution_count": null,
      "outputs": []
    },
    {
      "cell_type": "code",
      "source": [
        "tweets = pd.read_csv(\"/content/drive/MyDrive/3_EDDY_ISH_TECNOLOGIA/4_ML_inside_of _MANTIS/1_Tratando_Dados_json_Mantis/Applying_spaCy_to_Mantis/justdoit_tweets_2018_09_07_2.csv\")\n",
        "\n",
        "\n",
        "tweets.head(2)"
      ],
      "metadata": {
        "colab": {
          "base_uri": "https://localhost:8080/",
          "height": 292
        },
        "id": "_BeYuTGZgsfo",
        "outputId": "5ed60395-2f1a-4c3e-ab75-350bf9204c9b"
      },
      "execution_count": null,
      "outputs": [
        {
          "output_type": "execute_result",
          "data": {
            "text/plain": [
              "   tweet_contributors tweet_coordinates                tweet_created_at  \\\n",
              "0                 NaN               NaN  Fri Sep 07 16:25:06 +0000 2018   \n",
              "1                 NaN               NaN  Fri Sep 07 16:24:59 +0000 2018   \n",
              "\n",
              "  tweet_display_text_range                                     tweet_entities  \\\n",
              "0                  [0, 75]  {'hashtags': [{'text': 'quote', 'indices': [47...   \n",
              "1                 [0, 237]  {'hashtags': [{'text': 'hero', 'indices': [90,...   \n",
              "\n",
              "                             tweet_extended_entities  tweet_favorite_count  \\\n",
              "0  {'media': [{'id': 1038100853872197632, 'id_str...                     0   \n",
              "1                                                NaN                     0   \n",
              "\n",
              "   tweet_favorited                                    tweet_full_text  \\\n",
              "0            False  Done is better than perfect. — Sheryl Sandberg...   \n",
              "1            False  Shout out to the Great Fire Department and the...   \n",
              "\n",
              "  tweet_geo  ...  user_profile_text_color  user_profile_use_background_image  \\\n",
              "0       NaN  ...                   333333                               True   \n",
              "1       NaN  ...                   333333                               True   \n",
              "\n",
              "  user_protected  user_screen_name  user_statuses_count  user_time_zone  \\\n",
              "0          False     UltraYOUwoman              91870.0             NaN   \n",
              "1          False         yungcutup             618822.0             NaN   \n",
              "\n",
              "   user_translator_type                 user_url user_utc_offset user_verified  \n",
              "0                  none  https://t.co/jGlJswxjwS             NaN         False  \n",
              "1                  none   http://t.co/lVm8vfDbfO             NaN         False  \n",
              "\n",
              "[2 rows x 72 columns]"
            ],
            "text/html": [
              "\n",
              "  <div id=\"df-f0c5790f-805f-44b6-a87a-ba3c24fbb38e\">\n",
              "    <div class=\"colab-df-container\">\n",
              "      <div>\n",
              "<style scoped>\n",
              "    .dataframe tbody tr th:only-of-type {\n",
              "        vertical-align: middle;\n",
              "    }\n",
              "\n",
              "    .dataframe tbody tr th {\n",
              "        vertical-align: top;\n",
              "    }\n",
              "\n",
              "    .dataframe thead th {\n",
              "        text-align: right;\n",
              "    }\n",
              "</style>\n",
              "<table border=\"1\" class=\"dataframe\">\n",
              "  <thead>\n",
              "    <tr style=\"text-align: right;\">\n",
              "      <th></th>\n",
              "      <th>tweet_contributors</th>\n",
              "      <th>tweet_coordinates</th>\n",
              "      <th>tweet_created_at</th>\n",
              "      <th>tweet_display_text_range</th>\n",
              "      <th>tweet_entities</th>\n",
              "      <th>tweet_extended_entities</th>\n",
              "      <th>tweet_favorite_count</th>\n",
              "      <th>tweet_favorited</th>\n",
              "      <th>tweet_full_text</th>\n",
              "      <th>tweet_geo</th>\n",
              "      <th>...</th>\n",
              "      <th>user_profile_text_color</th>\n",
              "      <th>user_profile_use_background_image</th>\n",
              "      <th>user_protected</th>\n",
              "      <th>user_screen_name</th>\n",
              "      <th>user_statuses_count</th>\n",
              "      <th>user_time_zone</th>\n",
              "      <th>user_translator_type</th>\n",
              "      <th>user_url</th>\n",
              "      <th>user_utc_offset</th>\n",
              "      <th>user_verified</th>\n",
              "    </tr>\n",
              "  </thead>\n",
              "  <tbody>\n",
              "    <tr>\n",
              "      <th>0</th>\n",
              "      <td>NaN</td>\n",
              "      <td>NaN</td>\n",
              "      <td>Fri Sep 07 16:25:06 +0000 2018</td>\n",
              "      <td>[0, 75]</td>\n",
              "      <td>{'hashtags': [{'text': 'quote', 'indices': [47...</td>\n",
              "      <td>{'media': [{'id': 1038100853872197632, 'id_str...</td>\n",
              "      <td>0</td>\n",
              "      <td>False</td>\n",
              "      <td>Done is better than perfect. — Sheryl Sandberg...</td>\n",
              "      <td>NaN</td>\n",
              "      <td>...</td>\n",
              "      <td>333333</td>\n",
              "      <td>True</td>\n",
              "      <td>False</td>\n",
              "      <td>UltraYOUwoman</td>\n",
              "      <td>91870.0</td>\n",
              "      <td>NaN</td>\n",
              "      <td>none</td>\n",
              "      <td>https://t.co/jGlJswxjwS</td>\n",
              "      <td>NaN</td>\n",
              "      <td>False</td>\n",
              "    </tr>\n",
              "    <tr>\n",
              "      <th>1</th>\n",
              "      <td>NaN</td>\n",
              "      <td>NaN</td>\n",
              "      <td>Fri Sep 07 16:24:59 +0000 2018</td>\n",
              "      <td>[0, 237]</td>\n",
              "      <td>{'hashtags': [{'text': 'hero', 'indices': [90,...</td>\n",
              "      <td>NaN</td>\n",
              "      <td>0</td>\n",
              "      <td>False</td>\n",
              "      <td>Shout out to the Great Fire Department and the...</td>\n",
              "      <td>NaN</td>\n",
              "      <td>...</td>\n",
              "      <td>333333</td>\n",
              "      <td>True</td>\n",
              "      <td>False</td>\n",
              "      <td>yungcutup</td>\n",
              "      <td>618822.0</td>\n",
              "      <td>NaN</td>\n",
              "      <td>none</td>\n",
              "      <td>http://t.co/lVm8vfDbfO</td>\n",
              "      <td>NaN</td>\n",
              "      <td>False</td>\n",
              "    </tr>\n",
              "  </tbody>\n",
              "</table>\n",
              "<p>2 rows × 72 columns</p>\n",
              "</div>\n",
              "      <button class=\"colab-df-convert\" onclick=\"convertToInteractive('df-f0c5790f-805f-44b6-a87a-ba3c24fbb38e')\"\n",
              "              title=\"Convert this dataframe to an interactive table.\"\n",
              "              style=\"display:none;\">\n",
              "        \n",
              "  <svg xmlns=\"http://www.w3.org/2000/svg\" height=\"24px\"viewBox=\"0 0 24 24\"\n",
              "       width=\"24px\">\n",
              "    <path d=\"M0 0h24v24H0V0z\" fill=\"none\"/>\n",
              "    <path d=\"M18.56 5.44l.94 2.06.94-2.06 2.06-.94-2.06-.94-.94-2.06-.94 2.06-2.06.94zm-11 1L8.5 8.5l.94-2.06 2.06-.94-2.06-.94L8.5 2.5l-.94 2.06-2.06.94zm10 10l.94 2.06.94-2.06 2.06-.94-2.06-.94-.94-2.06-.94 2.06-2.06.94z\"/><path d=\"M17.41 7.96l-1.37-1.37c-.4-.4-.92-.59-1.43-.59-.52 0-1.04.2-1.43.59L10.3 9.45l-7.72 7.72c-.78.78-.78 2.05 0 2.83L4 21.41c.39.39.9.59 1.41.59.51 0 1.02-.2 1.41-.59l7.78-7.78 2.81-2.81c.8-.78.8-2.07 0-2.86zM5.41 20L4 18.59l7.72-7.72 1.47 1.35L5.41 20z\"/>\n",
              "  </svg>\n",
              "      </button>\n",
              "      \n",
              "  <style>\n",
              "    .colab-df-container {\n",
              "      display:flex;\n",
              "      flex-wrap:wrap;\n",
              "      gap: 12px;\n",
              "    }\n",
              "\n",
              "    .colab-df-convert {\n",
              "      background-color: #E8F0FE;\n",
              "      border: none;\n",
              "      border-radius: 50%;\n",
              "      cursor: pointer;\n",
              "      display: none;\n",
              "      fill: #1967D2;\n",
              "      height: 32px;\n",
              "      padding: 0 0 0 0;\n",
              "      width: 32px;\n",
              "    }\n",
              "\n",
              "    .colab-df-convert:hover {\n",
              "      background-color: #E2EBFA;\n",
              "      box-shadow: 0px 1px 2px rgba(60, 64, 67, 0.3), 0px 1px 3px 1px rgba(60, 64, 67, 0.15);\n",
              "      fill: #174EA6;\n",
              "    }\n",
              "\n",
              "    [theme=dark] .colab-df-convert {\n",
              "      background-color: #3B4455;\n",
              "      fill: #D2E3FC;\n",
              "    }\n",
              "\n",
              "    [theme=dark] .colab-df-convert:hover {\n",
              "      background-color: #434B5C;\n",
              "      box-shadow: 0px 1px 3px 1px rgba(0, 0, 0, 0.15);\n",
              "      filter: drop-shadow(0px 1px 2px rgba(0, 0, 0, 0.3));\n",
              "      fill: #FFFFFF;\n",
              "    }\n",
              "  </style>\n",
              "\n",
              "      <script>\n",
              "        const buttonEl =\n",
              "          document.querySelector('#df-f0c5790f-805f-44b6-a87a-ba3c24fbb38e button.colab-df-convert');\n",
              "        buttonEl.style.display =\n",
              "          google.colab.kernel.accessAllowed ? 'block' : 'none';\n",
              "\n",
              "        async function convertToInteractive(key) {\n",
              "          const element = document.querySelector('#df-f0c5790f-805f-44b6-a87a-ba3c24fbb38e');\n",
              "          const dataTable =\n",
              "            await google.colab.kernel.invokeFunction('convertToInteractive',\n",
              "                                                     [key], {});\n",
              "          if (!dataTable) return;\n",
              "\n",
              "          const docLinkHtml = 'Like what you see? Visit the ' +\n",
              "            '<a target=\"_blank\" href=https://colab.research.google.com/notebooks/data_table.ipynb>data table notebook</a>'\n",
              "            + ' to learn more about interactive tables.';\n",
              "          element.innerHTML = '';\n",
              "          dataTable['output_type'] = 'display_data';\n",
              "          await google.colab.output.renderOutput(dataTable, element);\n",
              "          const docLink = document.createElement('div');\n",
              "          docLink.innerHTML = docLinkHtml;\n",
              "          element.appendChild(docLink);\n",
              "        }\n",
              "      </script>\n",
              "    </div>\n",
              "  </div>\n",
              "  "
            ]
          },
          "metadata": {},
          "execution_count": 23
        }
      ]
    },
    {
      "cell_type": "code",
      "source": [
        "tweets.shape"
      ],
      "metadata": {
        "colab": {
          "base_uri": "https://localhost:8080/"
        },
        "id": "-5wVLAUlk2jp",
        "outputId": "ba3f9d6c-8e53-4789-af35-f8b15f8c0adf"
      },
      "execution_count": null,
      "outputs": [
        {
          "output_type": "execute_result",
          "data": {
            "text/plain": [
              "(5089, 72)"
            ]
          },
          "metadata": {},
          "execution_count": 25
        }
      ]
    },
    {
      "cell_type": "markdown",
      "source": [
        "## <font color='orange'>obs:</font>\n",
        "\n",
        "Vimos que ``tweet_full_text`` é o nome da coluna na qual os ``tweets`` são armazenados, vamos imprimir alguns exemplos de tweets."
      ],
      "metadata": {
        "id": "iEoKr-NRma8G"
      }
    },
    {
      "cell_type": "code",
      "source": [
        "tweets['tweet_full_text'].loc[0]"
      ],
      "metadata": {
        "colab": {
          "base_uri": "https://localhost:8080/",
          "height": 36
        },
        "id": "Z603C6eFk2hc",
        "outputId": "4a2d6b88-a28a-461f-e163-81cced58e8ca"
      },
      "execution_count": null,
      "outputs": [
        {
          "output_type": "execute_result",
          "data": {
            "text/plain": [
              "'Done is better than perfect. — Sheryl Sandberg #quote #motivation #justdoit https://t.co/J9lLdszdW6'"
            ],
            "application/vnd.google.colaboratory.intrinsic+json": {
              "type": "string"
            }
          },
          "metadata": {},
          "execution_count": 28
        }
      ]
    },
    {
      "cell_type": "code",
      "source": [
        "tweets['tweet_full_text'].loc[5]"
      ],
      "metadata": {
        "colab": {
          "base_uri": "https://localhost:8080/",
          "height": 36
        },
        "id": "YUZ8Og8Qk2fL",
        "outputId": "f9437ca5-e530-4dce-b28e-6cabbd4ec1c8"
      },
      "execution_count": null,
      "outputs": [
        {
          "output_type": "execute_result",
          "data": {
            "text/plain": [
              "\"@realDonaldTrump It's time for me to stock up on some new running apparel. Nike it is! #JUSTDOIT\""
            ],
            "application/vnd.google.colaboratory.intrinsic+json": {
              "type": "string"
            }
          },
          "metadata": {},
          "execution_count": 29
        }
      ]
    },
    {
      "cell_type": "code",
      "source": [
        "tweets['tweet_full_text'].loc[23]"
      ],
      "metadata": {
        "colab": {
          "base_uri": "https://localhost:8080/",
          "height": 36
        },
        "id": "Gt0Sytkpk2cm",
        "outputId": "7553cb7c-3a29-4e8c-9639-ca5569d0c659"
      },
      "execution_count": null,
      "outputs": [
        {
          "output_type": "execute_result",
          "data": {
            "text/plain": [
              "'My kinda Lady ... #Justdoit #Nike !!! https://t.co/GIFmg85rAm'"
            ],
            "application/vnd.google.colaboratory.intrinsic+json": {
              "type": "string"
            }
          },
          "metadata": {},
          "execution_count": 30
        }
      ]
    },
    {
      "cell_type": "code",
      "source": [
        "# Podemos visualizar assim, também:\n",
        "\n",
        "random.seed(44)\n",
        "\n",
        "text = tweets.tweet_full_text[random.sample(range(1,100),10)]\n",
        "\n",
        "text"
      ],
      "metadata": {
        "colab": {
          "base_uri": "https://localhost:8080/"
        },
        "id": "FyHLRISKncmK",
        "outputId": "0d14e5e2-044a-4780-bf78-fe2f62e7618a"
      },
      "execution_count": null,
      "outputs": [
        {
          "output_type": "execute_result",
          "data": {
            "text/plain": [
              "53    Don’t ask if your dreams are crazy. Ask if the...\n",
              "67    @realDonaldTrump God bless President Trump! 👍👍...\n",
              "70    @JWKeady @Kaepernick7 @KillerMike @tmorello #N...\n",
              "90    Just Did It! \\n#justdoit #nike #collinkaeperni...\n",
              "15    Why be a cat when you can be a lion. #JustDoIt...\n",
              "23    My kinda Lady ... #Justdoit #Nike !!! https://...\n",
              "49    New season of #ESG Notes kicks off today. Toda...\n",
              "29    Don't skip leg day y'all #legday #justdoit #fl...\n",
              "38    Just do it. #nike #meme #justdoit #justtryit #...\n",
              "4     One Hand, One Dream: The Shaquem Griffin Story...\n",
              "Name: tweet_full_text, dtype: object"
            ]
          },
          "metadata": {},
          "execution_count": 34
        }
      ]
    },
    {
      "cell_type": "code",
      "source": [
        "text_combined = str(text)"
      ],
      "metadata": {
        "id": "XhYDoL-Ynm4_"
      },
      "execution_count": null,
      "outputs": []
    },
    {
      "cell_type": "code",
      "source": [
        "doc = nlp(text_combined)"
      ],
      "metadata": {
        "id": "ksFLexhpn5Ou"
      },
      "execution_count": null,
      "outputs": []
    },
    {
      "cell_type": "code",
      "source": [
        "for ent in doc.ents:\n",
        "  print(ent.text, \"  -->  \", ent.label_)"
      ],
      "metadata": {
        "colab": {
          "base_uri": "https://localhost:8080/"
        },
        "id": "gIrTZygippHR",
        "outputId": "fa01d741-b04f-4792-f546-ada50ca812ff"
      },
      "execution_count": null,
      "outputs": [
        {
          "output_type": "stream",
          "name": "stdout",
          "text": [
            "53   -->   CARDINAL\n",
            "67   -->   CARDINAL\n",
            "Trump   -->   PERSON\n",
            "👍   -->   GPE\n",
            "70   -->   CARDINAL\n",
            "@Kaepernick7   -->   ORG\n",
            "90   -->   CARDINAL\n",
            "\\n#justdoit #nike #collinkaeperni   -->   PERSON\n",
            "15   -->   CARDINAL\n",
            "23   -->   CARDINAL\n",
            "kinda Lady   -->   PERSON\n",
            "#Justdoit #   -->   MONEY\n",
            "Nike   -->   ORG\n",
            "49   -->   DATE\n",
            "today   -->   DATE\n",
            "29   -->   CARDINAL\n",
            "#legday #   -->   MONEY\n",
            "38   -->   CARDINAL\n",
            "#nike #meme #   -->   MONEY\n",
            "4   -->   CARDINAL\n",
            "One   -->   CARDINAL\n",
            "tweet_full_text   -->   CARDINAL\n"
          ]
        }
      ]
    },
    {
      "cell_type": "code",
      "source": [
        "spacy.displacy.render(doc, style='ent',jupyter=True)\n"
      ],
      "metadata": {
        "colab": {
          "base_uri": "https://localhost:8080/",
          "height": 402
        },
        "id": "f1MTIKu4pwZh",
        "outputId": "d7656f42-ea62-4eb0-dd65-85e2615c2a0e"
      },
      "execution_count": null,
      "outputs": [
        {
          "output_type": "display_data",
          "data": {
            "text/plain": [
              "<IPython.core.display.HTML object>"
            ],
            "text/html": [
              "<span class=\"tex2jax_ignore\"><div class=\"entities\" style=\"line-height: 2.5; direction: ltr\">\n",
              "<mark class=\"entity\" style=\"background: #e4e7d2; padding: 0.45em 0.6em; margin: 0 0.25em; line-height: 1; border-radius: 0.35em;\">\n",
              "    53\n",
              "    <span style=\"font-size: 0.8em; font-weight: bold; line-height: 1; border-radius: 0.35em; text-transform: uppercase; vertical-align: middle; margin-left: 0.5rem\">CARDINAL</span>\n",
              "</mark>\n",
              "    Don’t ask if your dreams are crazy. Ask if the...</br>\n",
              "<mark class=\"entity\" style=\"background: #e4e7d2; padding: 0.45em 0.6em; margin: 0 0.25em; line-height: 1; border-radius: 0.35em;\">\n",
              "    67\n",
              "    <span style=\"font-size: 0.8em; font-weight: bold; line-height: 1; border-radius: 0.35em; text-transform: uppercase; vertical-align: middle; margin-left: 0.5rem\">CARDINAL</span>\n",
              "</mark>\n",
              "    @realDonaldTrump God bless President \n",
              "<mark class=\"entity\" style=\"background: #aa9cfc; padding: 0.45em 0.6em; margin: 0 0.25em; line-height: 1; border-radius: 0.35em;\">\n",
              "    Trump\n",
              "    <span style=\"font-size: 0.8em; font-weight: bold; line-height: 1; border-radius: 0.35em; text-transform: uppercase; vertical-align: middle; margin-left: 0.5rem\">PERSON</span>\n",
              "</mark>\n",
              "! \n",
              "<mark class=\"entity\" style=\"background: #feca74; padding: 0.45em 0.6em; margin: 0 0.25em; line-height: 1; border-radius: 0.35em;\">\n",
              "    👍\n",
              "    <span style=\"font-size: 0.8em; font-weight: bold; line-height: 1; border-radius: 0.35em; text-transform: uppercase; vertical-align: middle; margin-left: 0.5rem\">GPE</span>\n",
              "</mark>\n",
              "👍...</br>\n",
              "<mark class=\"entity\" style=\"background: #e4e7d2; padding: 0.45em 0.6em; margin: 0 0.25em; line-height: 1; border-radius: 0.35em;\">\n",
              "    70\n",
              "    <span style=\"font-size: 0.8em; font-weight: bold; line-height: 1; border-radius: 0.35em; text-transform: uppercase; vertical-align: middle; margin-left: 0.5rem\">CARDINAL</span>\n",
              "</mark>\n",
              "    @JWKeady \n",
              "<mark class=\"entity\" style=\"background: #7aecec; padding: 0.45em 0.6em; margin: 0 0.25em; line-height: 1; border-radius: 0.35em;\">\n",
              "    @Kaepernick7\n",
              "    <span style=\"font-size: 0.8em; font-weight: bold; line-height: 1; border-radius: 0.35em; text-transform: uppercase; vertical-align: middle; margin-left: 0.5rem\">ORG</span>\n",
              "</mark>\n",
              " @KillerMike @tmorello #N...</br>\n",
              "<mark class=\"entity\" style=\"background: #e4e7d2; padding: 0.45em 0.6em; margin: 0 0.25em; line-height: 1; border-radius: 0.35em;\">\n",
              "    90\n",
              "    <span style=\"font-size: 0.8em; font-weight: bold; line-height: 1; border-radius: 0.35em; text-transform: uppercase; vertical-align: middle; margin-left: 0.5rem\">CARDINAL</span>\n",
              "</mark>\n",
              "    Just Did It! \n",
              "<mark class=\"entity\" style=\"background: #aa9cfc; padding: 0.45em 0.6em; margin: 0 0.25em; line-height: 1; border-radius: 0.35em;\">\n",
              "    \\n#justdoit #nike #collinkaeperni\n",
              "    <span style=\"font-size: 0.8em; font-weight: bold; line-height: 1; border-radius: 0.35em; text-transform: uppercase; vertical-align: middle; margin-left: 0.5rem\">PERSON</span>\n",
              "</mark>\n",
              "...</br>\n",
              "<mark class=\"entity\" style=\"background: #e4e7d2; padding: 0.45em 0.6em; margin: 0 0.25em; line-height: 1; border-radius: 0.35em;\">\n",
              "    15\n",
              "    <span style=\"font-size: 0.8em; font-weight: bold; line-height: 1; border-radius: 0.35em; text-transform: uppercase; vertical-align: middle; margin-left: 0.5rem\">CARDINAL</span>\n",
              "</mark>\n",
              "    Why be a cat when you can be a lion. #JustDoIt...</br>\n",
              "<mark class=\"entity\" style=\"background: #e4e7d2; padding: 0.45em 0.6em; margin: 0 0.25em; line-height: 1; border-radius: 0.35em;\">\n",
              "    23\n",
              "    <span style=\"font-size: 0.8em; font-weight: bold; line-height: 1; border-radius: 0.35em; text-transform: uppercase; vertical-align: middle; margin-left: 0.5rem\">CARDINAL</span>\n",
              "</mark>\n",
              "    My \n",
              "<mark class=\"entity\" style=\"background: #aa9cfc; padding: 0.45em 0.6em; margin: 0 0.25em; line-height: 1; border-radius: 0.35em;\">\n",
              "    kinda Lady\n",
              "    <span style=\"font-size: 0.8em; font-weight: bold; line-height: 1; border-radius: 0.35em; text-transform: uppercase; vertical-align: middle; margin-left: 0.5rem\">PERSON</span>\n",
              "</mark>\n",
              " ... \n",
              "<mark class=\"entity\" style=\"background: #e4e7d2; padding: 0.45em 0.6em; margin: 0 0.25em; line-height: 1; border-radius: 0.35em;\">\n",
              "    #Justdoit #\n",
              "    <span style=\"font-size: 0.8em; font-weight: bold; line-height: 1; border-radius: 0.35em; text-transform: uppercase; vertical-align: middle; margin-left: 0.5rem\">MONEY</span>\n",
              "</mark>\n",
              "\n",
              "<mark class=\"entity\" style=\"background: #7aecec; padding: 0.45em 0.6em; margin: 0 0.25em; line-height: 1; border-radius: 0.35em;\">\n",
              "    Nike\n",
              "    <span style=\"font-size: 0.8em; font-weight: bold; line-height: 1; border-radius: 0.35em; text-transform: uppercase; vertical-align: middle; margin-left: 0.5rem\">ORG</span>\n",
              "</mark>\n",
              " !!! https://...</br>\n",
              "<mark class=\"entity\" style=\"background: #bfe1d9; padding: 0.45em 0.6em; margin: 0 0.25em; line-height: 1; border-radius: 0.35em;\">\n",
              "    49\n",
              "    <span style=\"font-size: 0.8em; font-weight: bold; line-height: 1; border-radius: 0.35em; text-transform: uppercase; vertical-align: middle; margin-left: 0.5rem\">DATE</span>\n",
              "</mark>\n",
              "    New season of #ESG Notes kicks off \n",
              "<mark class=\"entity\" style=\"background: #bfe1d9; padding: 0.45em 0.6em; margin: 0 0.25em; line-height: 1; border-radius: 0.35em;\">\n",
              "    today\n",
              "    <span style=\"font-size: 0.8em; font-weight: bold; line-height: 1; border-radius: 0.35em; text-transform: uppercase; vertical-align: middle; margin-left: 0.5rem\">DATE</span>\n",
              "</mark>\n",
              ". Toda...</br>\n",
              "<mark class=\"entity\" style=\"background: #e4e7d2; padding: 0.45em 0.6em; margin: 0 0.25em; line-height: 1; border-radius: 0.35em;\">\n",
              "    29\n",
              "    <span style=\"font-size: 0.8em; font-weight: bold; line-height: 1; border-radius: 0.35em; text-transform: uppercase; vertical-align: middle; margin-left: 0.5rem\">CARDINAL</span>\n",
              "</mark>\n",
              "    Don't skip leg day y'all \n",
              "<mark class=\"entity\" style=\"background: #e4e7d2; padding: 0.45em 0.6em; margin: 0 0.25em; line-height: 1; border-radius: 0.35em;\">\n",
              "    #legday #\n",
              "    <span style=\"font-size: 0.8em; font-weight: bold; line-height: 1; border-radius: 0.35em; text-transform: uppercase; vertical-align: middle; margin-left: 0.5rem\">MONEY</span>\n",
              "</mark>\n",
              "justdoit #fl...</br>\n",
              "<mark class=\"entity\" style=\"background: #e4e7d2; padding: 0.45em 0.6em; margin: 0 0.25em; line-height: 1; border-radius: 0.35em;\">\n",
              "    38\n",
              "    <span style=\"font-size: 0.8em; font-weight: bold; line-height: 1; border-radius: 0.35em; text-transform: uppercase; vertical-align: middle; margin-left: 0.5rem\">CARDINAL</span>\n",
              "</mark>\n",
              "    Just do it. \n",
              "<mark class=\"entity\" style=\"background: #e4e7d2; padding: 0.45em 0.6em; margin: 0 0.25em; line-height: 1; border-radius: 0.35em;\">\n",
              "    #nike #meme #\n",
              "    <span style=\"font-size: 0.8em; font-weight: bold; line-height: 1; border-radius: 0.35em; text-transform: uppercase; vertical-align: middle; margin-left: 0.5rem\">MONEY</span>\n",
              "</mark>\n",
              "justdoit #justtryit #...</br>\n",
              "<mark class=\"entity\" style=\"background: #e4e7d2; padding: 0.45em 0.6em; margin: 0 0.25em; line-height: 1; border-radius: 0.35em;\">\n",
              "    4\n",
              "    <span style=\"font-size: 0.8em; font-weight: bold; line-height: 1; border-radius: 0.35em; text-transform: uppercase; vertical-align: middle; margin-left: 0.5rem\">CARDINAL</span>\n",
              "</mark>\n",
              "     One Hand, \n",
              "<mark class=\"entity\" style=\"background: #e4e7d2; padding: 0.45em 0.6em; margin: 0 0.25em; line-height: 1; border-radius: 0.35em;\">\n",
              "    One\n",
              "    <span style=\"font-size: 0.8em; font-weight: bold; line-height: 1; border-radius: 0.35em; text-transform: uppercase; vertical-align: middle; margin-left: 0.5rem\">CARDINAL</span>\n",
              "</mark>\n",
              " Dream: The Shaquem Griffin Story...</br>Name: \n",
              "<mark class=\"entity\" style=\"background: #e4e7d2; padding: 0.45em 0.6em; margin: 0 0.25em; line-height: 1; border-radius: 0.35em;\">\n",
              "    tweet_full_text\n",
              "    <span style=\"font-size: 0.8em; font-weight: bold; line-height: 1; border-radius: 0.35em; text-transform: uppercase; vertical-align: middle; margin-left: 0.5rem\">CARDINAL</span>\n",
              "</mark>\n",
              ", dtype: object</div></span>"
            ]
          },
          "metadata": {}
        }
      ]
    },
    {
      "cell_type": "code",
      "source": [
        "print(\"GPE:\", spacy.explain('GPE'))\n",
        "\n",
        "print(\"MONEY:\", spacy.explain('MONEY'))"
      ],
      "metadata": {
        "colab": {
          "base_uri": "https://localhost:8080/"
        },
        "id": "NHfxvy38qOv3",
        "outputId": "83b07323-8237-4bb1-8fb4-96d6f3dc3382"
      },
      "execution_count": null,
      "outputs": [
        {
          "output_type": "stream",
          "name": "stdout",
          "text": [
            "GPE: Countries, cities, states\n",
            "MONEY: Monetary values, including unit\n"
          ]
        }
      ]
    },
    {
      "cell_type": "markdown",
      "source": [
        "## Outros recursos do *spaCy*"
      ],
      "metadata": {
        "id": "M3yVLTfWs4VX"
      }
    },
    {
      "cell_type": "markdown",
      "source": [
        "### Tokenização"
      ],
      "metadata": {
        "id": "eRUVzHoUs9th"
      }
    },
    {
      "cell_type": "code",
      "source": [
        "for token in doc:\n",
        "  print(token)"
      ],
      "metadata": {
        "id": "RULVZ4XYrcm7"
      },
      "execution_count": null,
      "outputs": []
    },
    {
      "cell_type": "markdown",
      "source": [
        "### PoS"
      ],
      "metadata": {
        "id": "aD6WIgt0tjpr"
      }
    },
    {
      "cell_type": "code",
      "source": [
        "for token in doc:\n",
        "  print(token.text, token.pos_)"
      ],
      "metadata": {
        "colab": {
          "base_uri": "https://localhost:8080/"
        },
        "id": "Qtm5J1iBtfJ9",
        "outputId": "23e34c73-3663-4676-ae2f-d7a424c18154"
      },
      "execution_count": null,
      "outputs": [
        {
          "output_type": "stream",
          "name": "stdout",
          "text": [
            "53 NUM\n",
            "    SPACE\n",
            "Do AUX\n",
            "n’t PART\n",
            "ask VERB\n",
            "if SCONJ\n",
            "your DET\n",
            "dreams NOUN\n",
            "are AUX\n",
            "crazy ADJ\n",
            ". PUNCT\n",
            "Ask VERB\n",
            "if SCONJ\n",
            "the DET\n",
            "... PUNCT\n",
            "\n",
            " SPACE\n",
            "67 NUM\n",
            "    SPACE\n",
            "@realDonaldTrump NOUN\n",
            "God PROPN\n",
            "bless VERB\n",
            "President PROPN\n",
            "Trump PROPN\n",
            "! PUNCT\n",
            "👍 ADJ\n",
            "👍 NOUN\n",
            "... PUNCT\n",
            "\n",
            " SPACE\n",
            "70 NUM\n",
            "    SPACE\n",
            "@JWKeady PUNCT\n",
            "@Kaepernick7 PROPN\n",
            "@KillerMike PUNCT\n",
            "@tmorello PROPN\n",
            "# SYM\n",
            "N NUM\n",
            "... PUNCT\n",
            "\n",
            " SPACE\n",
            "90 NUM\n",
            "    SPACE\n",
            "Just ADV\n",
            "Did AUX\n",
            "It PRON\n",
            "! PUNCT\n",
            "\\n#justdoit X\n",
            "# SYM\n",
            "nike PROPN\n",
            "# PROPN\n",
            "collinkaeperni PROPN\n",
            "... PUNCT\n",
            "\n",
            " SPACE\n",
            "15 NUM\n",
            "    SPACE\n",
            "Why ADV\n",
            "be AUX\n",
            "a DET\n",
            "cat NOUN\n",
            "when ADV\n",
            "you PRON\n",
            "can VERB\n",
            "be AUX\n",
            "a DET\n",
            "lion NOUN\n",
            ". PUNCT\n",
            "# SYM\n",
            "JustDoIt PROPN\n",
            "... PUNCT\n",
            "\n",
            " SPACE\n",
            "23 NUM\n",
            "    SPACE\n",
            "My DET\n",
            "kinda ADJ\n",
            "Lady PROPN\n",
            "... PUNCT\n",
            "# SYM\n",
            "Justdoit PROPN\n",
            "# SYM\n",
            "Nike PROPN\n",
            "! PUNCT\n",
            "! PUNCT\n",
            "! PUNCT\n",
            "https:// INTJ\n",
            "... PUNCT\n",
            "\n",
            " SPACE\n",
            "49 NUM\n",
            "    SPACE\n",
            "New ADJ\n",
            "season NOUN\n",
            "of ADP\n",
            "# SYM\n",
            "ESG PROPN\n",
            "Notes PROPN\n",
            "kicks VERB\n",
            "off ADP\n",
            "today NOUN\n",
            ". PUNCT\n",
            "Toda PROPN\n",
            "... PUNCT\n",
            "\n",
            " SPACE\n",
            "29 NUM\n",
            "    SPACE\n",
            "Do AUX\n",
            "n't PART\n",
            "skip VERB\n",
            "leg NOUN\n",
            "day NOUN\n",
            "y' PRON\n",
            "all DET\n",
            "# SYM\n",
            "legday NOUN\n",
            "# SYM\n",
            "justdoit PROPN\n",
            "# PROPN\n",
            "fl PROPN\n",
            "... PUNCT\n",
            "\n",
            " SPACE\n",
            "38 NUM\n",
            "    SPACE\n",
            "Just ADV\n",
            "do AUX\n",
            "it PRON\n",
            ". PUNCT\n",
            "# SYM\n",
            "nike PROPN\n",
            "# SYM\n",
            "meme PROPN\n",
            "# PROPN\n",
            "justdoit PROPN\n",
            "# PROPN\n",
            "justtryit PROPN\n",
            "# SYM\n",
            "... PUNCT\n",
            "\n",
            " SPACE\n",
            "4 NUM\n",
            "     SPACE\n",
            "One NUM\n",
            "Hand PROPN\n",
            ", PUNCT\n",
            "One NUM\n",
            "Dream NOUN\n",
            ": PUNCT\n",
            "The DET\n",
            "Shaquem PROPN\n",
            "Griffin PROPN\n",
            "Story PROPN\n",
            "... PUNCT\n",
            "\n",
            " SPACE\n",
            "Name NOUN\n",
            ": PUNCT\n",
            "tweet_full_text NOUN\n",
            ", PUNCT\n",
            "dtype ADJ\n",
            ": PUNCT\n",
            "object NOUN\n"
          ]
        }
      ]
    },
    {
      "cell_type": "code",
      "source": [
        ""
      ],
      "metadata": {
        "id": "11_zSJSzum-y"
      },
      "execution_count": null,
      "outputs": []
    }
  ]
}